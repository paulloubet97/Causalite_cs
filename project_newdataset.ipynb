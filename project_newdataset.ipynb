{
  "nbformat": 4,
  "nbformat_minor": 0,
  "metadata": {
    "colab": {
      "name": "project_newdataset.ipynb",
      "provenance": [],
      "collapsed_sections": [
        "saDuqfF9w-iP",
        "OspfoG3axHKI",
        "ZsSKPSYFAt42",
        "A1XIcvUpEoPq",
        "cDw6GTY9k-OB",
        "-EnKGQqutUll",
        "lTeYa2FhTucv",
        "Dk1Y9FD9eR_6"
      ]
    },
    "kernelspec": {
      "name": "python3",
      "display_name": "Python 3"
    },
    "language_info": {
      "name": "python"
    },
    "widgets": {
      "application/vnd.jupyter.widget-state+json": {
        "e77bc70c51ca433f8b7070c07f18d8bb": {
          "model_module": "@jupyter-widgets/controls",
          "model_name": "HBoxModel",
          "model_module_version": "1.5.0",
          "state": {
            "_view_name": "HBoxView",
            "_dom_classes": [],
            "_model_name": "HBoxModel",
            "_view_module": "@jupyter-widgets/controls",
            "_model_module_version": "1.5.0",
            "_view_count": null,
            "_view_module_version": "1.5.0",
            "box_style": "",
            "layout": "IPY_MODEL_998bae9bf2b1452d8ebed87251006a42",
            "_model_module": "@jupyter-widgets/controls",
            "children": [
              "IPY_MODEL_863a879706744c2dbadb7b420892e1c1",
              "IPY_MODEL_6a05776ace094f499218fe0daeb0ab24",
              "IPY_MODEL_2f7124bcc842417f8ea1d0ce0f8da7e0"
            ]
          }
        },
        "998bae9bf2b1452d8ebed87251006a42": {
          "model_module": "@jupyter-widgets/base",
          "model_name": "LayoutModel",
          "model_module_version": "1.2.0",
          "state": {
            "_view_name": "LayoutView",
            "grid_template_rows": null,
            "right": null,
            "justify_content": null,
            "_view_module": "@jupyter-widgets/base",
            "overflow": null,
            "_model_module_version": "1.2.0",
            "_view_count": null,
            "flex_flow": null,
            "width": null,
            "min_width": null,
            "border": null,
            "align_items": null,
            "bottom": null,
            "_model_module": "@jupyter-widgets/base",
            "top": null,
            "grid_column": null,
            "overflow_y": null,
            "overflow_x": null,
            "grid_auto_flow": null,
            "grid_area": null,
            "grid_template_columns": null,
            "flex": null,
            "_model_name": "LayoutModel",
            "justify_items": null,
            "grid_row": null,
            "max_height": null,
            "align_content": null,
            "visibility": null,
            "align_self": null,
            "height": null,
            "min_height": null,
            "padding": null,
            "grid_auto_rows": null,
            "grid_gap": null,
            "max_width": null,
            "order": null,
            "_view_module_version": "1.2.0",
            "grid_template_areas": null,
            "object_position": null,
            "object_fit": null,
            "grid_auto_columns": null,
            "margin": null,
            "display": null,
            "left": null
          }
        },
        "863a879706744c2dbadb7b420892e1c1": {
          "model_module": "@jupyter-widgets/controls",
          "model_name": "HTMLModel",
          "model_module_version": "1.5.0",
          "state": {
            "_view_name": "HTMLView",
            "style": "IPY_MODEL_436ea04b699643bb89a79227d941c4b5",
            "_dom_classes": [],
            "description": "",
            "_model_name": "HTMLModel",
            "placeholder": "​",
            "_view_module": "@jupyter-widgets/controls",
            "_model_module_version": "1.5.0",
            "value": "",
            "_view_count": null,
            "_view_module_version": "1.5.0",
            "description_tooltip": null,
            "_model_module": "@jupyter-widgets/controls",
            "layout": "IPY_MODEL_25bd2693ab1c45f6b5cbc6cca42431c7"
          }
        },
        "6a05776ace094f499218fe0daeb0ab24": {
          "model_module": "@jupyter-widgets/controls",
          "model_name": "FloatProgressModel",
          "model_module_version": "1.5.0",
          "state": {
            "_view_name": "ProgressView",
            "style": "IPY_MODEL_4dbb69cd21e04ae28b56be373f0e1a00",
            "_dom_classes": [],
            "description": "",
            "_model_name": "FloatProgressModel",
            "bar_style": "success",
            "max": 9912422,
            "_view_module": "@jupyter-widgets/controls",
            "_model_module_version": "1.5.0",
            "value": 9912422,
            "_view_count": null,
            "_view_module_version": "1.5.0",
            "orientation": "horizontal",
            "min": 0,
            "description_tooltip": null,
            "_model_module": "@jupyter-widgets/controls",
            "layout": "IPY_MODEL_82c0a585747b4449bc01af902a0cc9cd"
          }
        },
        "2f7124bcc842417f8ea1d0ce0f8da7e0": {
          "model_module": "@jupyter-widgets/controls",
          "model_name": "HTMLModel",
          "model_module_version": "1.5.0",
          "state": {
            "_view_name": "HTMLView",
            "style": "IPY_MODEL_1fc3931ecef2439193226d0f646a9786",
            "_dom_classes": [],
            "description": "",
            "_model_name": "HTMLModel",
            "placeholder": "​",
            "_view_module": "@jupyter-widgets/controls",
            "_model_module_version": "1.5.0",
            "value": " 9913344/? [00:00&lt;00:00, 42876684.36it/s]",
            "_view_count": null,
            "_view_module_version": "1.5.0",
            "description_tooltip": null,
            "_model_module": "@jupyter-widgets/controls",
            "layout": "IPY_MODEL_fc574a32f28847749886de7c79baa996"
          }
        },
        "436ea04b699643bb89a79227d941c4b5": {
          "model_module": "@jupyter-widgets/controls",
          "model_name": "DescriptionStyleModel",
          "model_module_version": "1.5.0",
          "state": {
            "_view_name": "StyleView",
            "_model_name": "DescriptionStyleModel",
            "description_width": "",
            "_view_module": "@jupyter-widgets/base",
            "_model_module_version": "1.5.0",
            "_view_count": null,
            "_view_module_version": "1.2.0",
            "_model_module": "@jupyter-widgets/controls"
          }
        },
        "25bd2693ab1c45f6b5cbc6cca42431c7": {
          "model_module": "@jupyter-widgets/base",
          "model_name": "LayoutModel",
          "model_module_version": "1.2.0",
          "state": {
            "_view_name": "LayoutView",
            "grid_template_rows": null,
            "right": null,
            "justify_content": null,
            "_view_module": "@jupyter-widgets/base",
            "overflow": null,
            "_model_module_version": "1.2.0",
            "_view_count": null,
            "flex_flow": null,
            "width": null,
            "min_width": null,
            "border": null,
            "align_items": null,
            "bottom": null,
            "_model_module": "@jupyter-widgets/base",
            "top": null,
            "grid_column": null,
            "overflow_y": null,
            "overflow_x": null,
            "grid_auto_flow": null,
            "grid_area": null,
            "grid_template_columns": null,
            "flex": null,
            "_model_name": "LayoutModel",
            "justify_items": null,
            "grid_row": null,
            "max_height": null,
            "align_content": null,
            "visibility": null,
            "align_self": null,
            "height": null,
            "min_height": null,
            "padding": null,
            "grid_auto_rows": null,
            "grid_gap": null,
            "max_width": null,
            "order": null,
            "_view_module_version": "1.2.0",
            "grid_template_areas": null,
            "object_position": null,
            "object_fit": null,
            "grid_auto_columns": null,
            "margin": null,
            "display": null,
            "left": null
          }
        },
        "4dbb69cd21e04ae28b56be373f0e1a00": {
          "model_module": "@jupyter-widgets/controls",
          "model_name": "ProgressStyleModel",
          "model_module_version": "1.5.0",
          "state": {
            "_view_name": "StyleView",
            "_model_name": "ProgressStyleModel",
            "description_width": "",
            "_view_module": "@jupyter-widgets/base",
            "_model_module_version": "1.5.0",
            "_view_count": null,
            "_view_module_version": "1.2.0",
            "bar_color": null,
            "_model_module": "@jupyter-widgets/controls"
          }
        },
        "82c0a585747b4449bc01af902a0cc9cd": {
          "model_module": "@jupyter-widgets/base",
          "model_name": "LayoutModel",
          "model_module_version": "1.2.0",
          "state": {
            "_view_name": "LayoutView",
            "grid_template_rows": null,
            "right": null,
            "justify_content": null,
            "_view_module": "@jupyter-widgets/base",
            "overflow": null,
            "_model_module_version": "1.2.0",
            "_view_count": null,
            "flex_flow": null,
            "width": null,
            "min_width": null,
            "border": null,
            "align_items": null,
            "bottom": null,
            "_model_module": "@jupyter-widgets/base",
            "top": null,
            "grid_column": null,
            "overflow_y": null,
            "overflow_x": null,
            "grid_auto_flow": null,
            "grid_area": null,
            "grid_template_columns": null,
            "flex": null,
            "_model_name": "LayoutModel",
            "justify_items": null,
            "grid_row": null,
            "max_height": null,
            "align_content": null,
            "visibility": null,
            "align_self": null,
            "height": null,
            "min_height": null,
            "padding": null,
            "grid_auto_rows": null,
            "grid_gap": null,
            "max_width": null,
            "order": null,
            "_view_module_version": "1.2.0",
            "grid_template_areas": null,
            "object_position": null,
            "object_fit": null,
            "grid_auto_columns": null,
            "margin": null,
            "display": null,
            "left": null
          }
        },
        "1fc3931ecef2439193226d0f646a9786": {
          "model_module": "@jupyter-widgets/controls",
          "model_name": "DescriptionStyleModel",
          "model_module_version": "1.5.0",
          "state": {
            "_view_name": "StyleView",
            "_model_name": "DescriptionStyleModel",
            "description_width": "",
            "_view_module": "@jupyter-widgets/base",
            "_model_module_version": "1.5.0",
            "_view_count": null,
            "_view_module_version": "1.2.0",
            "_model_module": "@jupyter-widgets/controls"
          }
        },
        "fc574a32f28847749886de7c79baa996": {
          "model_module": "@jupyter-widgets/base",
          "model_name": "LayoutModel",
          "model_module_version": "1.2.0",
          "state": {
            "_view_name": "LayoutView",
            "grid_template_rows": null,
            "right": null,
            "justify_content": null,
            "_view_module": "@jupyter-widgets/base",
            "overflow": null,
            "_model_module_version": "1.2.0",
            "_view_count": null,
            "flex_flow": null,
            "width": null,
            "min_width": null,
            "border": null,
            "align_items": null,
            "bottom": null,
            "_model_module": "@jupyter-widgets/base",
            "top": null,
            "grid_column": null,
            "overflow_y": null,
            "overflow_x": null,
            "grid_auto_flow": null,
            "grid_area": null,
            "grid_template_columns": null,
            "flex": null,
            "_model_name": "LayoutModel",
            "justify_items": null,
            "grid_row": null,
            "max_height": null,
            "align_content": null,
            "visibility": null,
            "align_self": null,
            "height": null,
            "min_height": null,
            "padding": null,
            "grid_auto_rows": null,
            "grid_gap": null,
            "max_width": null,
            "order": null,
            "_view_module_version": "1.2.0",
            "grid_template_areas": null,
            "object_position": null,
            "object_fit": null,
            "grid_auto_columns": null,
            "margin": null,
            "display": null,
            "left": null
          }
        },
        "beb79f5531244157a5fd284ab9b4f167": {
          "model_module": "@jupyter-widgets/controls",
          "model_name": "HBoxModel",
          "model_module_version": "1.5.0",
          "state": {
            "_view_name": "HBoxView",
            "_dom_classes": [],
            "_model_name": "HBoxModel",
            "_view_module": "@jupyter-widgets/controls",
            "_model_module_version": "1.5.0",
            "_view_count": null,
            "_view_module_version": "1.5.0",
            "box_style": "",
            "layout": "IPY_MODEL_518d3b8a57734ba0b43a9ec684cfe852",
            "_model_module": "@jupyter-widgets/controls",
            "children": [
              "IPY_MODEL_426f8d5017544e3f8c284aaf05a8276e",
              "IPY_MODEL_fede346317094800a12e9fa54721c3d9",
              "IPY_MODEL_18b9ae89f00741fb932e4beae6430d81"
            ]
          }
        },
        "518d3b8a57734ba0b43a9ec684cfe852": {
          "model_module": "@jupyter-widgets/base",
          "model_name": "LayoutModel",
          "model_module_version": "1.2.0",
          "state": {
            "_view_name": "LayoutView",
            "grid_template_rows": null,
            "right": null,
            "justify_content": null,
            "_view_module": "@jupyter-widgets/base",
            "overflow": null,
            "_model_module_version": "1.2.0",
            "_view_count": null,
            "flex_flow": null,
            "width": null,
            "min_width": null,
            "border": null,
            "align_items": null,
            "bottom": null,
            "_model_module": "@jupyter-widgets/base",
            "top": null,
            "grid_column": null,
            "overflow_y": null,
            "overflow_x": null,
            "grid_auto_flow": null,
            "grid_area": null,
            "grid_template_columns": null,
            "flex": null,
            "_model_name": "LayoutModel",
            "justify_items": null,
            "grid_row": null,
            "max_height": null,
            "align_content": null,
            "visibility": null,
            "align_self": null,
            "height": null,
            "min_height": null,
            "padding": null,
            "grid_auto_rows": null,
            "grid_gap": null,
            "max_width": null,
            "order": null,
            "_view_module_version": "1.2.0",
            "grid_template_areas": null,
            "object_position": null,
            "object_fit": null,
            "grid_auto_columns": null,
            "margin": null,
            "display": null,
            "left": null
          }
        },
        "426f8d5017544e3f8c284aaf05a8276e": {
          "model_module": "@jupyter-widgets/controls",
          "model_name": "HTMLModel",
          "model_module_version": "1.5.0",
          "state": {
            "_view_name": "HTMLView",
            "style": "IPY_MODEL_cbebc6e39a6b4a4f9bc5146e973a2e5d",
            "_dom_classes": [],
            "description": "",
            "_model_name": "HTMLModel",
            "placeholder": "​",
            "_view_module": "@jupyter-widgets/controls",
            "_model_module_version": "1.5.0",
            "value": "",
            "_view_count": null,
            "_view_module_version": "1.5.0",
            "description_tooltip": null,
            "_model_module": "@jupyter-widgets/controls",
            "layout": "IPY_MODEL_1c19b1dd8a3c4074be465eaba2c29580"
          }
        },
        "fede346317094800a12e9fa54721c3d9": {
          "model_module": "@jupyter-widgets/controls",
          "model_name": "FloatProgressModel",
          "model_module_version": "1.5.0",
          "state": {
            "_view_name": "ProgressView",
            "style": "IPY_MODEL_71345c85d8b24a3195cafd5ebb90c013",
            "_dom_classes": [],
            "description": "",
            "_model_name": "FloatProgressModel",
            "bar_style": "success",
            "max": 28881,
            "_view_module": "@jupyter-widgets/controls",
            "_model_module_version": "1.5.0",
            "value": 28881,
            "_view_count": null,
            "_view_module_version": "1.5.0",
            "orientation": "horizontal",
            "min": 0,
            "description_tooltip": null,
            "_model_module": "@jupyter-widgets/controls",
            "layout": "IPY_MODEL_24ee01b99bd64bd2a82978acb63441e6"
          }
        },
        "18b9ae89f00741fb932e4beae6430d81": {
          "model_module": "@jupyter-widgets/controls",
          "model_name": "HTMLModel",
          "model_module_version": "1.5.0",
          "state": {
            "_view_name": "HTMLView",
            "style": "IPY_MODEL_0e9af0dc3dcd48678a24625a020e418f",
            "_dom_classes": [],
            "description": "",
            "_model_name": "HTMLModel",
            "placeholder": "​",
            "_view_module": "@jupyter-widgets/controls",
            "_model_module_version": "1.5.0",
            "value": " 29696/? [00:00&lt;00:00, 851168.58it/s]",
            "_view_count": null,
            "_view_module_version": "1.5.0",
            "description_tooltip": null,
            "_model_module": "@jupyter-widgets/controls",
            "layout": "IPY_MODEL_08ec2ace104f44dd8515a0e4e84d5071"
          }
        },
        "cbebc6e39a6b4a4f9bc5146e973a2e5d": {
          "model_module": "@jupyter-widgets/controls",
          "model_name": "DescriptionStyleModel",
          "model_module_version": "1.5.0",
          "state": {
            "_view_name": "StyleView",
            "_model_name": "DescriptionStyleModel",
            "description_width": "",
            "_view_module": "@jupyter-widgets/base",
            "_model_module_version": "1.5.0",
            "_view_count": null,
            "_view_module_version": "1.2.0",
            "_model_module": "@jupyter-widgets/controls"
          }
        },
        "1c19b1dd8a3c4074be465eaba2c29580": {
          "model_module": "@jupyter-widgets/base",
          "model_name": "LayoutModel",
          "model_module_version": "1.2.0",
          "state": {
            "_view_name": "LayoutView",
            "grid_template_rows": null,
            "right": null,
            "justify_content": null,
            "_view_module": "@jupyter-widgets/base",
            "overflow": null,
            "_model_module_version": "1.2.0",
            "_view_count": null,
            "flex_flow": null,
            "width": null,
            "min_width": null,
            "border": null,
            "align_items": null,
            "bottom": null,
            "_model_module": "@jupyter-widgets/base",
            "top": null,
            "grid_column": null,
            "overflow_y": null,
            "overflow_x": null,
            "grid_auto_flow": null,
            "grid_area": null,
            "grid_template_columns": null,
            "flex": null,
            "_model_name": "LayoutModel",
            "justify_items": null,
            "grid_row": null,
            "max_height": null,
            "align_content": null,
            "visibility": null,
            "align_self": null,
            "height": null,
            "min_height": null,
            "padding": null,
            "grid_auto_rows": null,
            "grid_gap": null,
            "max_width": null,
            "order": null,
            "_view_module_version": "1.2.0",
            "grid_template_areas": null,
            "object_position": null,
            "object_fit": null,
            "grid_auto_columns": null,
            "margin": null,
            "display": null,
            "left": null
          }
        },
        "71345c85d8b24a3195cafd5ebb90c013": {
          "model_module": "@jupyter-widgets/controls",
          "model_name": "ProgressStyleModel",
          "model_module_version": "1.5.0",
          "state": {
            "_view_name": "StyleView",
            "_model_name": "ProgressStyleModel",
            "description_width": "",
            "_view_module": "@jupyter-widgets/base",
            "_model_module_version": "1.5.0",
            "_view_count": null,
            "_view_module_version": "1.2.0",
            "bar_color": null,
            "_model_module": "@jupyter-widgets/controls"
          }
        },
        "24ee01b99bd64bd2a82978acb63441e6": {
          "model_module": "@jupyter-widgets/base",
          "model_name": "LayoutModel",
          "model_module_version": "1.2.0",
          "state": {
            "_view_name": "LayoutView",
            "grid_template_rows": null,
            "right": null,
            "justify_content": null,
            "_view_module": "@jupyter-widgets/base",
            "overflow": null,
            "_model_module_version": "1.2.0",
            "_view_count": null,
            "flex_flow": null,
            "width": null,
            "min_width": null,
            "border": null,
            "align_items": null,
            "bottom": null,
            "_model_module": "@jupyter-widgets/base",
            "top": null,
            "grid_column": null,
            "overflow_y": null,
            "overflow_x": null,
            "grid_auto_flow": null,
            "grid_area": null,
            "grid_template_columns": null,
            "flex": null,
            "_model_name": "LayoutModel",
            "justify_items": null,
            "grid_row": null,
            "max_height": null,
            "align_content": null,
            "visibility": null,
            "align_self": null,
            "height": null,
            "min_height": null,
            "padding": null,
            "grid_auto_rows": null,
            "grid_gap": null,
            "max_width": null,
            "order": null,
            "_view_module_version": "1.2.0",
            "grid_template_areas": null,
            "object_position": null,
            "object_fit": null,
            "grid_auto_columns": null,
            "margin": null,
            "display": null,
            "left": null
          }
        },
        "0e9af0dc3dcd48678a24625a020e418f": {
          "model_module": "@jupyter-widgets/controls",
          "model_name": "DescriptionStyleModel",
          "model_module_version": "1.5.0",
          "state": {
            "_view_name": "StyleView",
            "_model_name": "DescriptionStyleModel",
            "description_width": "",
            "_view_module": "@jupyter-widgets/base",
            "_model_module_version": "1.5.0",
            "_view_count": null,
            "_view_module_version": "1.2.0",
            "_model_module": "@jupyter-widgets/controls"
          }
        },
        "08ec2ace104f44dd8515a0e4e84d5071": {
          "model_module": "@jupyter-widgets/base",
          "model_name": "LayoutModel",
          "model_module_version": "1.2.0",
          "state": {
            "_view_name": "LayoutView",
            "grid_template_rows": null,
            "right": null,
            "justify_content": null,
            "_view_module": "@jupyter-widgets/base",
            "overflow": null,
            "_model_module_version": "1.2.0",
            "_view_count": null,
            "flex_flow": null,
            "width": null,
            "min_width": null,
            "border": null,
            "align_items": null,
            "bottom": null,
            "_model_module": "@jupyter-widgets/base",
            "top": null,
            "grid_column": null,
            "overflow_y": null,
            "overflow_x": null,
            "grid_auto_flow": null,
            "grid_area": null,
            "grid_template_columns": null,
            "flex": null,
            "_model_name": "LayoutModel",
            "justify_items": null,
            "grid_row": null,
            "max_height": null,
            "align_content": null,
            "visibility": null,
            "align_self": null,
            "height": null,
            "min_height": null,
            "padding": null,
            "grid_auto_rows": null,
            "grid_gap": null,
            "max_width": null,
            "order": null,
            "_view_module_version": "1.2.0",
            "grid_template_areas": null,
            "object_position": null,
            "object_fit": null,
            "grid_auto_columns": null,
            "margin": null,
            "display": null,
            "left": null
          }
        },
        "b86db16d95a14aad911398341d386fa6": {
          "model_module": "@jupyter-widgets/controls",
          "model_name": "HBoxModel",
          "model_module_version": "1.5.0",
          "state": {
            "_view_name": "HBoxView",
            "_dom_classes": [],
            "_model_name": "HBoxModel",
            "_view_module": "@jupyter-widgets/controls",
            "_model_module_version": "1.5.0",
            "_view_count": null,
            "_view_module_version": "1.5.0",
            "box_style": "",
            "layout": "IPY_MODEL_1a4954ebf4124d06b89490c0ff1caf75",
            "_model_module": "@jupyter-widgets/controls",
            "children": [
              "IPY_MODEL_0306ca5cc026410ab61ec56235937087",
              "IPY_MODEL_244409b5647f4688a9a9f66e383324fe",
              "IPY_MODEL_87eb70d74ff44952828f9dae62657be2"
            ]
          }
        },
        "1a4954ebf4124d06b89490c0ff1caf75": {
          "model_module": "@jupyter-widgets/base",
          "model_name": "LayoutModel",
          "model_module_version": "1.2.0",
          "state": {
            "_view_name": "LayoutView",
            "grid_template_rows": null,
            "right": null,
            "justify_content": null,
            "_view_module": "@jupyter-widgets/base",
            "overflow": null,
            "_model_module_version": "1.2.0",
            "_view_count": null,
            "flex_flow": null,
            "width": null,
            "min_width": null,
            "border": null,
            "align_items": null,
            "bottom": null,
            "_model_module": "@jupyter-widgets/base",
            "top": null,
            "grid_column": null,
            "overflow_y": null,
            "overflow_x": null,
            "grid_auto_flow": null,
            "grid_area": null,
            "grid_template_columns": null,
            "flex": null,
            "_model_name": "LayoutModel",
            "justify_items": null,
            "grid_row": null,
            "max_height": null,
            "align_content": null,
            "visibility": null,
            "align_self": null,
            "height": null,
            "min_height": null,
            "padding": null,
            "grid_auto_rows": null,
            "grid_gap": null,
            "max_width": null,
            "order": null,
            "_view_module_version": "1.2.0",
            "grid_template_areas": null,
            "object_position": null,
            "object_fit": null,
            "grid_auto_columns": null,
            "margin": null,
            "display": null,
            "left": null
          }
        },
        "0306ca5cc026410ab61ec56235937087": {
          "model_module": "@jupyter-widgets/controls",
          "model_name": "HTMLModel",
          "model_module_version": "1.5.0",
          "state": {
            "_view_name": "HTMLView",
            "style": "IPY_MODEL_2d044eb2cee741df9caa345a9f70e837",
            "_dom_classes": [],
            "description": "",
            "_model_name": "HTMLModel",
            "placeholder": "​",
            "_view_module": "@jupyter-widgets/controls",
            "_model_module_version": "1.5.0",
            "value": "",
            "_view_count": null,
            "_view_module_version": "1.5.0",
            "description_tooltip": null,
            "_model_module": "@jupyter-widgets/controls",
            "layout": "IPY_MODEL_24deabc9b58d4ecb84720188481cfefb"
          }
        },
        "244409b5647f4688a9a9f66e383324fe": {
          "model_module": "@jupyter-widgets/controls",
          "model_name": "FloatProgressModel",
          "model_module_version": "1.5.0",
          "state": {
            "_view_name": "ProgressView",
            "style": "IPY_MODEL_63cc79dc2ff14303bb989a4fd0e350e3",
            "_dom_classes": [],
            "description": "",
            "_model_name": "FloatProgressModel",
            "bar_style": "success",
            "max": 1648877,
            "_view_module": "@jupyter-widgets/controls",
            "_model_module_version": "1.5.0",
            "value": 1648877,
            "_view_count": null,
            "_view_module_version": "1.5.0",
            "orientation": "horizontal",
            "min": 0,
            "description_tooltip": null,
            "_model_module": "@jupyter-widgets/controls",
            "layout": "IPY_MODEL_a2057bc1baad453fbf591630f1cd5f38"
          }
        },
        "87eb70d74ff44952828f9dae62657be2": {
          "model_module": "@jupyter-widgets/controls",
          "model_name": "HTMLModel",
          "model_module_version": "1.5.0",
          "state": {
            "_view_name": "HTMLView",
            "style": "IPY_MODEL_084c43c126ae4ea4a5ce5272424192e4",
            "_dom_classes": [],
            "description": "",
            "_model_name": "HTMLModel",
            "placeholder": "​",
            "_view_module": "@jupyter-widgets/controls",
            "_model_module_version": "1.5.0",
            "value": " 1649664/? [00:00&lt;00:00, 3206967.74it/s]",
            "_view_count": null,
            "_view_module_version": "1.5.0",
            "description_tooltip": null,
            "_model_module": "@jupyter-widgets/controls",
            "layout": "IPY_MODEL_4be4354b80864515b2604585ea0c8532"
          }
        },
        "2d044eb2cee741df9caa345a9f70e837": {
          "model_module": "@jupyter-widgets/controls",
          "model_name": "DescriptionStyleModel",
          "model_module_version": "1.5.0",
          "state": {
            "_view_name": "StyleView",
            "_model_name": "DescriptionStyleModel",
            "description_width": "",
            "_view_module": "@jupyter-widgets/base",
            "_model_module_version": "1.5.0",
            "_view_count": null,
            "_view_module_version": "1.2.0",
            "_model_module": "@jupyter-widgets/controls"
          }
        },
        "24deabc9b58d4ecb84720188481cfefb": {
          "model_module": "@jupyter-widgets/base",
          "model_name": "LayoutModel",
          "model_module_version": "1.2.0",
          "state": {
            "_view_name": "LayoutView",
            "grid_template_rows": null,
            "right": null,
            "justify_content": null,
            "_view_module": "@jupyter-widgets/base",
            "overflow": null,
            "_model_module_version": "1.2.0",
            "_view_count": null,
            "flex_flow": null,
            "width": null,
            "min_width": null,
            "border": null,
            "align_items": null,
            "bottom": null,
            "_model_module": "@jupyter-widgets/base",
            "top": null,
            "grid_column": null,
            "overflow_y": null,
            "overflow_x": null,
            "grid_auto_flow": null,
            "grid_area": null,
            "grid_template_columns": null,
            "flex": null,
            "_model_name": "LayoutModel",
            "justify_items": null,
            "grid_row": null,
            "max_height": null,
            "align_content": null,
            "visibility": null,
            "align_self": null,
            "height": null,
            "min_height": null,
            "padding": null,
            "grid_auto_rows": null,
            "grid_gap": null,
            "max_width": null,
            "order": null,
            "_view_module_version": "1.2.0",
            "grid_template_areas": null,
            "object_position": null,
            "object_fit": null,
            "grid_auto_columns": null,
            "margin": null,
            "display": null,
            "left": null
          }
        },
        "63cc79dc2ff14303bb989a4fd0e350e3": {
          "model_module": "@jupyter-widgets/controls",
          "model_name": "ProgressStyleModel",
          "model_module_version": "1.5.0",
          "state": {
            "_view_name": "StyleView",
            "_model_name": "ProgressStyleModel",
            "description_width": "",
            "_view_module": "@jupyter-widgets/base",
            "_model_module_version": "1.5.0",
            "_view_count": null,
            "_view_module_version": "1.2.0",
            "bar_color": null,
            "_model_module": "@jupyter-widgets/controls"
          }
        },
        "a2057bc1baad453fbf591630f1cd5f38": {
          "model_module": "@jupyter-widgets/base",
          "model_name": "LayoutModel",
          "model_module_version": "1.2.0",
          "state": {
            "_view_name": "LayoutView",
            "grid_template_rows": null,
            "right": null,
            "justify_content": null,
            "_view_module": "@jupyter-widgets/base",
            "overflow": null,
            "_model_module_version": "1.2.0",
            "_view_count": null,
            "flex_flow": null,
            "width": null,
            "min_width": null,
            "border": null,
            "align_items": null,
            "bottom": null,
            "_model_module": "@jupyter-widgets/base",
            "top": null,
            "grid_column": null,
            "overflow_y": null,
            "overflow_x": null,
            "grid_auto_flow": null,
            "grid_area": null,
            "grid_template_columns": null,
            "flex": null,
            "_model_name": "LayoutModel",
            "justify_items": null,
            "grid_row": null,
            "max_height": null,
            "align_content": null,
            "visibility": null,
            "align_self": null,
            "height": null,
            "min_height": null,
            "padding": null,
            "grid_auto_rows": null,
            "grid_gap": null,
            "max_width": null,
            "order": null,
            "_view_module_version": "1.2.0",
            "grid_template_areas": null,
            "object_position": null,
            "object_fit": null,
            "grid_auto_columns": null,
            "margin": null,
            "display": null,
            "left": null
          }
        },
        "084c43c126ae4ea4a5ce5272424192e4": {
          "model_module": "@jupyter-widgets/controls",
          "model_name": "DescriptionStyleModel",
          "model_module_version": "1.5.0",
          "state": {
            "_view_name": "StyleView",
            "_model_name": "DescriptionStyleModel",
            "description_width": "",
            "_view_module": "@jupyter-widgets/base",
            "_model_module_version": "1.5.0",
            "_view_count": null,
            "_view_module_version": "1.2.0",
            "_model_module": "@jupyter-widgets/controls"
          }
        },
        "4be4354b80864515b2604585ea0c8532": {
          "model_module": "@jupyter-widgets/base",
          "model_name": "LayoutModel",
          "model_module_version": "1.2.0",
          "state": {
            "_view_name": "LayoutView",
            "grid_template_rows": null,
            "right": null,
            "justify_content": null,
            "_view_module": "@jupyter-widgets/base",
            "overflow": null,
            "_model_module_version": "1.2.0",
            "_view_count": null,
            "flex_flow": null,
            "width": null,
            "min_width": null,
            "border": null,
            "align_items": null,
            "bottom": null,
            "_model_module": "@jupyter-widgets/base",
            "top": null,
            "grid_column": null,
            "overflow_y": null,
            "overflow_x": null,
            "grid_auto_flow": null,
            "grid_area": null,
            "grid_template_columns": null,
            "flex": null,
            "_model_name": "LayoutModel",
            "justify_items": null,
            "grid_row": null,
            "max_height": null,
            "align_content": null,
            "visibility": null,
            "align_self": null,
            "height": null,
            "min_height": null,
            "padding": null,
            "grid_auto_rows": null,
            "grid_gap": null,
            "max_width": null,
            "order": null,
            "_view_module_version": "1.2.0",
            "grid_template_areas": null,
            "object_position": null,
            "object_fit": null,
            "grid_auto_columns": null,
            "margin": null,
            "display": null,
            "left": null
          }
        },
        "f8704bc053fe4ac38e91916b39b5ef7c": {
          "model_module": "@jupyter-widgets/controls",
          "model_name": "HBoxModel",
          "model_module_version": "1.5.0",
          "state": {
            "_view_name": "HBoxView",
            "_dom_classes": [],
            "_model_name": "HBoxModel",
            "_view_module": "@jupyter-widgets/controls",
            "_model_module_version": "1.5.0",
            "_view_count": null,
            "_view_module_version": "1.5.0",
            "box_style": "",
            "layout": "IPY_MODEL_3574b4e362554a1a9c6f3443eba955ee",
            "_model_module": "@jupyter-widgets/controls",
            "children": [
              "IPY_MODEL_b1f255ab752842daa04175afa4b9cf57",
              "IPY_MODEL_82c67858185e4621badaaf6451337b47",
              "IPY_MODEL_2b0ec0ea43334800a44fd72b76863602"
            ]
          }
        },
        "3574b4e362554a1a9c6f3443eba955ee": {
          "model_module": "@jupyter-widgets/base",
          "model_name": "LayoutModel",
          "model_module_version": "1.2.0",
          "state": {
            "_view_name": "LayoutView",
            "grid_template_rows": null,
            "right": null,
            "justify_content": null,
            "_view_module": "@jupyter-widgets/base",
            "overflow": null,
            "_model_module_version": "1.2.0",
            "_view_count": null,
            "flex_flow": null,
            "width": null,
            "min_width": null,
            "border": null,
            "align_items": null,
            "bottom": null,
            "_model_module": "@jupyter-widgets/base",
            "top": null,
            "grid_column": null,
            "overflow_y": null,
            "overflow_x": null,
            "grid_auto_flow": null,
            "grid_area": null,
            "grid_template_columns": null,
            "flex": null,
            "_model_name": "LayoutModel",
            "justify_items": null,
            "grid_row": null,
            "max_height": null,
            "align_content": null,
            "visibility": null,
            "align_self": null,
            "height": null,
            "min_height": null,
            "padding": null,
            "grid_auto_rows": null,
            "grid_gap": null,
            "max_width": null,
            "order": null,
            "_view_module_version": "1.2.0",
            "grid_template_areas": null,
            "object_position": null,
            "object_fit": null,
            "grid_auto_columns": null,
            "margin": null,
            "display": null,
            "left": null
          }
        },
        "b1f255ab752842daa04175afa4b9cf57": {
          "model_module": "@jupyter-widgets/controls",
          "model_name": "HTMLModel",
          "model_module_version": "1.5.0",
          "state": {
            "_view_name": "HTMLView",
            "style": "IPY_MODEL_600e8c26fc6d4838b23da66236e078b5",
            "_dom_classes": [],
            "description": "",
            "_model_name": "HTMLModel",
            "placeholder": "​",
            "_view_module": "@jupyter-widgets/controls",
            "_model_module_version": "1.5.0",
            "value": "",
            "_view_count": null,
            "_view_module_version": "1.5.0",
            "description_tooltip": null,
            "_model_module": "@jupyter-widgets/controls",
            "layout": "IPY_MODEL_495d244306d64a50974a0a7a0c33bbc4"
          }
        },
        "82c67858185e4621badaaf6451337b47": {
          "model_module": "@jupyter-widgets/controls",
          "model_name": "FloatProgressModel",
          "model_module_version": "1.5.0",
          "state": {
            "_view_name": "ProgressView",
            "style": "IPY_MODEL_65e2a39c1581452ebd961af58f8eb47b",
            "_dom_classes": [],
            "description": "",
            "_model_name": "FloatProgressModel",
            "bar_style": "success",
            "max": 4542,
            "_view_module": "@jupyter-widgets/controls",
            "_model_module_version": "1.5.0",
            "value": 4542,
            "_view_count": null,
            "_view_module_version": "1.5.0",
            "orientation": "horizontal",
            "min": 0,
            "description_tooltip": null,
            "_model_module": "@jupyter-widgets/controls",
            "layout": "IPY_MODEL_cefb41898f9847bf9c3c47871da5fe61"
          }
        },
        "2b0ec0ea43334800a44fd72b76863602": {
          "model_module": "@jupyter-widgets/controls",
          "model_name": "HTMLModel",
          "model_module_version": "1.5.0",
          "state": {
            "_view_name": "HTMLView",
            "style": "IPY_MODEL_f03a92e5643740f9973cb0cebdf63dbc",
            "_dom_classes": [],
            "description": "",
            "_model_name": "HTMLModel",
            "placeholder": "​",
            "_view_module": "@jupyter-widgets/controls",
            "_model_module_version": "1.5.0",
            "value": " 5120/? [00:00&lt;00:00, 109698.14it/s]",
            "_view_count": null,
            "_view_module_version": "1.5.0",
            "description_tooltip": null,
            "_model_module": "@jupyter-widgets/controls",
            "layout": "IPY_MODEL_cbe29b68421f41ada89d2e748f92a5f1"
          }
        },
        "600e8c26fc6d4838b23da66236e078b5": {
          "model_module": "@jupyter-widgets/controls",
          "model_name": "DescriptionStyleModel",
          "model_module_version": "1.5.0",
          "state": {
            "_view_name": "StyleView",
            "_model_name": "DescriptionStyleModel",
            "description_width": "",
            "_view_module": "@jupyter-widgets/base",
            "_model_module_version": "1.5.0",
            "_view_count": null,
            "_view_module_version": "1.2.0",
            "_model_module": "@jupyter-widgets/controls"
          }
        },
        "495d244306d64a50974a0a7a0c33bbc4": {
          "model_module": "@jupyter-widgets/base",
          "model_name": "LayoutModel",
          "model_module_version": "1.2.0",
          "state": {
            "_view_name": "LayoutView",
            "grid_template_rows": null,
            "right": null,
            "justify_content": null,
            "_view_module": "@jupyter-widgets/base",
            "overflow": null,
            "_model_module_version": "1.2.0",
            "_view_count": null,
            "flex_flow": null,
            "width": null,
            "min_width": null,
            "border": null,
            "align_items": null,
            "bottom": null,
            "_model_module": "@jupyter-widgets/base",
            "top": null,
            "grid_column": null,
            "overflow_y": null,
            "overflow_x": null,
            "grid_auto_flow": null,
            "grid_area": null,
            "grid_template_columns": null,
            "flex": null,
            "_model_name": "LayoutModel",
            "justify_items": null,
            "grid_row": null,
            "max_height": null,
            "align_content": null,
            "visibility": null,
            "align_self": null,
            "height": null,
            "min_height": null,
            "padding": null,
            "grid_auto_rows": null,
            "grid_gap": null,
            "max_width": null,
            "order": null,
            "_view_module_version": "1.2.0",
            "grid_template_areas": null,
            "object_position": null,
            "object_fit": null,
            "grid_auto_columns": null,
            "margin": null,
            "display": null,
            "left": null
          }
        },
        "65e2a39c1581452ebd961af58f8eb47b": {
          "model_module": "@jupyter-widgets/controls",
          "model_name": "ProgressStyleModel",
          "model_module_version": "1.5.0",
          "state": {
            "_view_name": "StyleView",
            "_model_name": "ProgressStyleModel",
            "description_width": "",
            "_view_module": "@jupyter-widgets/base",
            "_model_module_version": "1.5.0",
            "_view_count": null,
            "_view_module_version": "1.2.0",
            "bar_color": null,
            "_model_module": "@jupyter-widgets/controls"
          }
        },
        "cefb41898f9847bf9c3c47871da5fe61": {
          "model_module": "@jupyter-widgets/base",
          "model_name": "LayoutModel",
          "model_module_version": "1.2.0",
          "state": {
            "_view_name": "LayoutView",
            "grid_template_rows": null,
            "right": null,
            "justify_content": null,
            "_view_module": "@jupyter-widgets/base",
            "overflow": null,
            "_model_module_version": "1.2.0",
            "_view_count": null,
            "flex_flow": null,
            "width": null,
            "min_width": null,
            "border": null,
            "align_items": null,
            "bottom": null,
            "_model_module": "@jupyter-widgets/base",
            "top": null,
            "grid_column": null,
            "overflow_y": null,
            "overflow_x": null,
            "grid_auto_flow": null,
            "grid_area": null,
            "grid_template_columns": null,
            "flex": null,
            "_model_name": "LayoutModel",
            "justify_items": null,
            "grid_row": null,
            "max_height": null,
            "align_content": null,
            "visibility": null,
            "align_self": null,
            "height": null,
            "min_height": null,
            "padding": null,
            "grid_auto_rows": null,
            "grid_gap": null,
            "max_width": null,
            "order": null,
            "_view_module_version": "1.2.0",
            "grid_template_areas": null,
            "object_position": null,
            "object_fit": null,
            "grid_auto_columns": null,
            "margin": null,
            "display": null,
            "left": null
          }
        },
        "f03a92e5643740f9973cb0cebdf63dbc": {
          "model_module": "@jupyter-widgets/controls",
          "model_name": "DescriptionStyleModel",
          "model_module_version": "1.5.0",
          "state": {
            "_view_name": "StyleView",
            "_model_name": "DescriptionStyleModel",
            "description_width": "",
            "_view_module": "@jupyter-widgets/base",
            "_model_module_version": "1.5.0",
            "_view_count": null,
            "_view_module_version": "1.2.0",
            "_model_module": "@jupyter-widgets/controls"
          }
        },
        "cbe29b68421f41ada89d2e748f92a5f1": {
          "model_module": "@jupyter-widgets/base",
          "model_name": "LayoutModel",
          "model_module_version": "1.2.0",
          "state": {
            "_view_name": "LayoutView",
            "grid_template_rows": null,
            "right": null,
            "justify_content": null,
            "_view_module": "@jupyter-widgets/base",
            "overflow": null,
            "_model_module_version": "1.2.0",
            "_view_count": null,
            "flex_flow": null,
            "width": null,
            "min_width": null,
            "border": null,
            "align_items": null,
            "bottom": null,
            "_model_module": "@jupyter-widgets/base",
            "top": null,
            "grid_column": null,
            "overflow_y": null,
            "overflow_x": null,
            "grid_auto_flow": null,
            "grid_area": null,
            "grid_template_columns": null,
            "flex": null,
            "_model_name": "LayoutModel",
            "justify_items": null,
            "grid_row": null,
            "max_height": null,
            "align_content": null,
            "visibility": null,
            "align_self": null,
            "height": null,
            "min_height": null,
            "padding": null,
            "grid_auto_rows": null,
            "grid_gap": null,
            "max_width": null,
            "order": null,
            "_view_module_version": "1.2.0",
            "grid_template_areas": null,
            "object_position": null,
            "object_fit": null,
            "grid_auto_columns": null,
            "margin": null,
            "display": null,
            "left": null
          }
        }
      }
    }
  },
  "cells": [
    {
      "cell_type": "markdown",
      "source": [
        "# INSTALL DL2"
      ],
      "metadata": {
        "id": "saDuqfF9w-iP"
      }
    },
    {
      "cell_type": "code",
      "source": [
        "!pip install d2l"
      ],
      "metadata": {
        "colab": {
          "base_uri": "https://localhost:8080/",
          "height": 1000
        },
        "id": "cNXvM3Now7k5",
        "outputId": "19563b4a-0a6c-48ea-8d08-910e329ecd3c"
      },
      "execution_count": 1,
      "outputs": [
        {
          "output_type": "stream",
          "name": "stdout",
          "text": [
            "Collecting d2l\n",
            "  Downloading d2l-0.17.2-py3-none-any.whl (82 kB)\n",
            "\u001b[K     |████████████████████████████████| 82 kB 510 kB/s \n",
            "\u001b[?25hCollecting numpy==1.18.5\n",
            "  Downloading numpy-1.18.5-cp37-cp37m-manylinux1_x86_64.whl (20.1 MB)\n",
            "\u001b[K     |████████████████████████████████| 20.1 MB 8.8 MB/s \n",
            "\u001b[?25hCollecting requests==2.25.1\n",
            "  Downloading requests-2.25.1-py2.py3-none-any.whl (61 kB)\n",
            "\u001b[K     |████████████████████████████████| 61 kB 6.8 MB/s \n",
            "\u001b[?25hCollecting matplotlib==3.3.3\n",
            "  Downloading matplotlib-3.3.3-cp37-cp37m-manylinux1_x86_64.whl (11.6 MB)\n",
            "\u001b[K     |████████████████████████████████| 11.6 MB 25.6 MB/s \n",
            "\u001b[?25hCollecting pandas==1.2.2\n",
            "  Downloading pandas-1.2.2-cp37-cp37m-manylinux1_x86_64.whl (9.9 MB)\n",
            "\u001b[K     |████████████████████████████████| 9.9 MB 37.8 MB/s \n",
            "\u001b[?25hRequirement already satisfied: jupyter==1.0.0 in /usr/local/lib/python3.7/dist-packages (from d2l) (1.0.0)\n",
            "Requirement already satisfied: ipykernel in /usr/local/lib/python3.7/dist-packages (from jupyter==1.0.0->d2l) (4.10.1)\n",
            "Requirement already satisfied: qtconsole in /usr/local/lib/python3.7/dist-packages (from jupyter==1.0.0->d2l) (5.2.2)\n",
            "Requirement already satisfied: jupyter-console in /usr/local/lib/python3.7/dist-packages (from jupyter==1.0.0->d2l) (5.2.0)\n",
            "Requirement already satisfied: notebook in /usr/local/lib/python3.7/dist-packages (from jupyter==1.0.0->d2l) (5.3.1)\n",
            "Requirement already satisfied: ipywidgets in /usr/local/lib/python3.7/dist-packages (from jupyter==1.0.0->d2l) (7.6.5)\n",
            "Requirement already satisfied: nbconvert in /usr/local/lib/python3.7/dist-packages (from jupyter==1.0.0->d2l) (5.6.1)\n",
            "Requirement already satisfied: pillow>=6.2.0 in /usr/local/lib/python3.7/dist-packages (from matplotlib==3.3.3->d2l) (7.1.2)\n",
            "Requirement already satisfied: python-dateutil>=2.1 in /usr/local/lib/python3.7/dist-packages (from matplotlib==3.3.3->d2l) (2.8.2)\n",
            "Requirement already satisfied: cycler>=0.10 in /usr/local/lib/python3.7/dist-packages (from matplotlib==3.3.3->d2l) (0.11.0)\n",
            "Requirement already satisfied: kiwisolver>=1.0.1 in /usr/local/lib/python3.7/dist-packages (from matplotlib==3.3.3->d2l) (1.3.2)\n",
            "Requirement already satisfied: pyparsing!=2.0.4,!=2.1.2,!=2.1.6,>=2.0.3 in /usr/local/lib/python3.7/dist-packages (from matplotlib==3.3.3->d2l) (3.0.6)\n",
            "Requirement already satisfied: pytz>=2017.3 in /usr/local/lib/python3.7/dist-packages (from pandas==1.2.2->d2l) (2018.9)\n",
            "Requirement already satisfied: chardet<5,>=3.0.2 in /usr/local/lib/python3.7/dist-packages (from requests==2.25.1->d2l) (3.0.4)\n",
            "Requirement already satisfied: urllib3<1.27,>=1.21.1 in /usr/local/lib/python3.7/dist-packages (from requests==2.25.1->d2l) (1.24.3)\n",
            "Requirement already satisfied: certifi>=2017.4.17 in /usr/local/lib/python3.7/dist-packages (from requests==2.25.1->d2l) (2021.10.8)\n",
            "Requirement already satisfied: idna<3,>=2.5 in /usr/local/lib/python3.7/dist-packages (from requests==2.25.1->d2l) (2.10)\n",
            "Requirement already satisfied: six>=1.5 in /usr/local/lib/python3.7/dist-packages (from python-dateutil>=2.1->matplotlib==3.3.3->d2l) (1.15.0)\n",
            "Requirement already satisfied: tornado>=4.0 in /usr/local/lib/python3.7/dist-packages (from ipykernel->jupyter==1.0.0->d2l) (5.1.1)\n",
            "Requirement already satisfied: jupyter-client in /usr/local/lib/python3.7/dist-packages (from ipykernel->jupyter==1.0.0->d2l) (5.3.5)\n",
            "Requirement already satisfied: ipython>=4.0.0 in /usr/local/lib/python3.7/dist-packages (from ipykernel->jupyter==1.0.0->d2l) (5.5.0)\n",
            "Requirement already satisfied: traitlets>=4.1.0 in /usr/local/lib/python3.7/dist-packages (from ipykernel->jupyter==1.0.0->d2l) (5.1.1)\n",
            "Requirement already satisfied: decorator in /usr/local/lib/python3.7/dist-packages (from ipython>=4.0.0->ipykernel->jupyter==1.0.0->d2l) (4.4.2)\n",
            "Requirement already satisfied: simplegeneric>0.8 in /usr/local/lib/python3.7/dist-packages (from ipython>=4.0.0->ipykernel->jupyter==1.0.0->d2l) (0.8.1)\n",
            "Requirement already satisfied: pygments in /usr/local/lib/python3.7/dist-packages (from ipython>=4.0.0->ipykernel->jupyter==1.0.0->d2l) (2.6.1)\n",
            "Requirement already satisfied: pickleshare in /usr/local/lib/python3.7/dist-packages (from ipython>=4.0.0->ipykernel->jupyter==1.0.0->d2l) (0.7.5)\n",
            "Requirement already satisfied: setuptools>=18.5 in /usr/local/lib/python3.7/dist-packages (from ipython>=4.0.0->ipykernel->jupyter==1.0.0->d2l) (57.4.0)\n",
            "Requirement already satisfied: pexpect in /usr/local/lib/python3.7/dist-packages (from ipython>=4.0.0->ipykernel->jupyter==1.0.0->d2l) (4.8.0)\n",
            "Requirement already satisfied: prompt-toolkit<2.0.0,>=1.0.4 in /usr/local/lib/python3.7/dist-packages (from ipython>=4.0.0->ipykernel->jupyter==1.0.0->d2l) (1.0.18)\n",
            "Requirement already satisfied: wcwidth in /usr/local/lib/python3.7/dist-packages (from prompt-toolkit<2.0.0,>=1.0.4->ipython>=4.0.0->ipykernel->jupyter==1.0.0->d2l) (0.2.5)\n",
            "Requirement already satisfied: ipython-genutils~=0.2.0 in /usr/local/lib/python3.7/dist-packages (from ipywidgets->jupyter==1.0.0->d2l) (0.2.0)\n",
            "Requirement already satisfied: nbformat>=4.2.0 in /usr/local/lib/python3.7/dist-packages (from ipywidgets->jupyter==1.0.0->d2l) (5.1.3)\n",
            "Requirement already satisfied: widgetsnbextension~=3.5.0 in /usr/local/lib/python3.7/dist-packages (from ipywidgets->jupyter==1.0.0->d2l) (3.5.2)\n",
            "Requirement already satisfied: jupyterlab-widgets>=1.0.0 in /usr/local/lib/python3.7/dist-packages (from ipywidgets->jupyter==1.0.0->d2l) (1.0.2)\n",
            "Requirement already satisfied: jsonschema!=2.5.0,>=2.4 in /usr/local/lib/python3.7/dist-packages (from nbformat>=4.2.0->ipywidgets->jupyter==1.0.0->d2l) (4.3.3)\n",
            "Requirement already satisfied: jupyter-core in /usr/local/lib/python3.7/dist-packages (from nbformat>=4.2.0->ipywidgets->jupyter==1.0.0->d2l) (4.9.1)\n",
            "Requirement already satisfied: importlib-resources>=1.4.0 in /usr/local/lib/python3.7/dist-packages (from jsonschema!=2.5.0,>=2.4->nbformat>=4.2.0->ipywidgets->jupyter==1.0.0->d2l) (5.4.0)\n",
            "Requirement already satisfied: importlib-metadata in /usr/local/lib/python3.7/dist-packages (from jsonschema!=2.5.0,>=2.4->nbformat>=4.2.0->ipywidgets->jupyter==1.0.0->d2l) (4.10.0)\n",
            "Requirement already satisfied: pyrsistent!=0.17.0,!=0.17.1,!=0.17.2,>=0.14.0 in /usr/local/lib/python3.7/dist-packages (from jsonschema!=2.5.0,>=2.4->nbformat>=4.2.0->ipywidgets->jupyter==1.0.0->d2l) (0.18.0)\n",
            "Requirement already satisfied: typing-extensions in /usr/local/lib/python3.7/dist-packages (from jsonschema!=2.5.0,>=2.4->nbformat>=4.2.0->ipywidgets->jupyter==1.0.0->d2l) (3.10.0.2)\n",
            "Requirement already satisfied: attrs>=17.4.0 in /usr/local/lib/python3.7/dist-packages (from jsonschema!=2.5.0,>=2.4->nbformat>=4.2.0->ipywidgets->jupyter==1.0.0->d2l) (21.4.0)\n",
            "Requirement already satisfied: zipp>=3.1.0 in /usr/local/lib/python3.7/dist-packages (from importlib-resources>=1.4.0->jsonschema!=2.5.0,>=2.4->nbformat>=4.2.0->ipywidgets->jupyter==1.0.0->d2l) (3.7.0)\n",
            "Requirement already satisfied: jinja2 in /usr/local/lib/python3.7/dist-packages (from notebook->jupyter==1.0.0->d2l) (2.11.3)\n",
            "Requirement already satisfied: Send2Trash in /usr/local/lib/python3.7/dist-packages (from notebook->jupyter==1.0.0->d2l) (1.8.0)\n",
            "Requirement already satisfied: terminado>=0.8.1 in /usr/local/lib/python3.7/dist-packages (from notebook->jupyter==1.0.0->d2l) (0.12.1)\n",
            "Requirement already satisfied: pyzmq>=13 in /usr/local/lib/python3.7/dist-packages (from jupyter-client->ipykernel->jupyter==1.0.0->d2l) (22.3.0)\n",
            "Requirement already satisfied: ptyprocess in /usr/local/lib/python3.7/dist-packages (from terminado>=0.8.1->notebook->jupyter==1.0.0->d2l) (0.7.0)\n",
            "Requirement already satisfied: MarkupSafe>=0.23 in /usr/local/lib/python3.7/dist-packages (from jinja2->notebook->jupyter==1.0.0->d2l) (2.0.1)\n",
            "Requirement already satisfied: entrypoints>=0.2.2 in /usr/local/lib/python3.7/dist-packages (from nbconvert->jupyter==1.0.0->d2l) (0.3)\n",
            "Requirement already satisfied: pandocfilters>=1.4.1 in /usr/local/lib/python3.7/dist-packages (from nbconvert->jupyter==1.0.0->d2l) (1.5.0)\n",
            "Requirement already satisfied: testpath in /usr/local/lib/python3.7/dist-packages (from nbconvert->jupyter==1.0.0->d2l) (0.5.0)\n",
            "Requirement already satisfied: defusedxml in /usr/local/lib/python3.7/dist-packages (from nbconvert->jupyter==1.0.0->d2l) (0.7.1)\n",
            "Requirement already satisfied: bleach in /usr/local/lib/python3.7/dist-packages (from nbconvert->jupyter==1.0.0->d2l) (4.1.0)\n",
            "Requirement already satisfied: mistune<2,>=0.8.1 in /usr/local/lib/python3.7/dist-packages (from nbconvert->jupyter==1.0.0->d2l) (0.8.4)\n",
            "Requirement already satisfied: packaging in /usr/local/lib/python3.7/dist-packages (from bleach->nbconvert->jupyter==1.0.0->d2l) (21.3)\n",
            "Requirement already satisfied: webencodings in /usr/local/lib/python3.7/dist-packages (from bleach->nbconvert->jupyter==1.0.0->d2l) (0.5.1)\n",
            "Requirement already satisfied: qtpy in /usr/local/lib/python3.7/dist-packages (from qtconsole->jupyter==1.0.0->d2l) (2.0.0)\n",
            "Installing collected packages: numpy, requests, pandas, matplotlib, d2l\n",
            "  Attempting uninstall: numpy\n",
            "    Found existing installation: numpy 1.19.5\n",
            "    Uninstalling numpy-1.19.5:\n",
            "      Successfully uninstalled numpy-1.19.5\n",
            "  Attempting uninstall: requests\n",
            "    Found existing installation: requests 2.23.0\n",
            "    Uninstalling requests-2.23.0:\n",
            "      Successfully uninstalled requests-2.23.0\n",
            "  Attempting uninstall: pandas\n",
            "    Found existing installation: pandas 1.1.5\n",
            "    Uninstalling pandas-1.1.5:\n",
            "      Successfully uninstalled pandas-1.1.5\n",
            "  Attempting uninstall: matplotlib\n",
            "    Found existing installation: matplotlib 3.2.2\n",
            "    Uninstalling matplotlib-3.2.2:\n",
            "      Successfully uninstalled matplotlib-3.2.2\n",
            "\u001b[31mERROR: pip's dependency resolver does not currently take into account all the packages that are installed. This behaviour is the source of the following dependency conflicts.\n",
            "google-colab 1.0.0 requires pandas~=1.1.0; python_version >= \"3.0\", but you have pandas 1.2.2 which is incompatible.\n",
            "google-colab 1.0.0 requires requests~=2.23.0, but you have requests 2.25.1 which is incompatible.\n",
            "datascience 0.10.6 requires folium==0.2.1, but you have folium 0.8.3 which is incompatible.\n",
            "albumentations 0.1.12 requires imgaug<0.2.7,>=0.2.5, but you have imgaug 0.2.9 which is incompatible.\u001b[0m\n",
            "Successfully installed d2l-0.17.2 matplotlib-3.3.3 numpy-1.18.5 pandas-1.2.2 requests-2.25.1\n"
          ]
        },
        {
          "output_type": "display_data",
          "data": {
            "application/vnd.colab-display-data+json": {
              "pip_warning": {
                "packages": [
                  "matplotlib",
                  "mpl_toolkits",
                  "numpy",
                  "pandas"
                ]
              }
            }
          },
          "metadata": {}
        }
      ]
    },
    {
      "cell_type": "code",
      "source": [
        "!pip install matplotlib==3.0.2"
      ],
      "metadata": {
        "colab": {
          "base_uri": "https://localhost:8080/",
          "height": 471
        },
        "id": "HYBzt-dzs6Ma",
        "outputId": "1acfe716-a87b-4418-9ad5-af4b3fa0004d"
      },
      "execution_count": 2,
      "outputs": [
        {
          "output_type": "stream",
          "name": "stdout",
          "text": [
            "Collecting matplotlib==3.0.2\n",
            "  Downloading matplotlib-3.0.2-cp37-cp37m-manylinux1_x86_64.whl (12.9 MB)\n",
            "\u001b[K     |████████████████████████████████| 12.9 MB 5.4 MB/s \n",
            "\u001b[?25hRequirement already satisfied: pyparsing!=2.0.4,!=2.1.2,!=2.1.6,>=2.0.1 in /usr/local/lib/python3.7/dist-packages (from matplotlib==3.0.2) (3.0.6)\n",
            "Requirement already satisfied: kiwisolver>=1.0.1 in /usr/local/lib/python3.7/dist-packages (from matplotlib==3.0.2) (1.3.2)\n",
            "Requirement already satisfied: python-dateutil>=2.1 in /usr/local/lib/python3.7/dist-packages (from matplotlib==3.0.2) (2.8.2)\n",
            "Requirement already satisfied: cycler>=0.10 in /usr/local/lib/python3.7/dist-packages (from matplotlib==3.0.2) (0.11.0)\n",
            "Requirement already satisfied: numpy>=1.10.0 in /usr/local/lib/python3.7/dist-packages (from matplotlib==3.0.2) (1.18.5)\n",
            "Requirement already satisfied: six>=1.5 in /usr/local/lib/python3.7/dist-packages (from python-dateutil>=2.1->matplotlib==3.0.2) (1.15.0)\n",
            "Installing collected packages: matplotlib\n",
            "  Attempting uninstall: matplotlib\n",
            "    Found existing installation: matplotlib 3.3.3\n",
            "    Uninstalling matplotlib-3.3.3:\n",
            "      Successfully uninstalled matplotlib-3.3.3\n",
            "\u001b[31mERROR: pip's dependency resolver does not currently take into account all the packages that are installed. This behaviour is the source of the following dependency conflicts.\n",
            "plotnine 0.6.0 requires matplotlib>=3.1.1, but you have matplotlib 3.0.2 which is incompatible.\n",
            "mizani 0.6.0 requires matplotlib>=3.1.1, but you have matplotlib 3.0.2 which is incompatible.\n",
            "d2l 0.17.2 requires matplotlib==3.3.3, but you have matplotlib 3.0.2 which is incompatible.\n",
            "albumentations 0.1.12 requires imgaug<0.2.7,>=0.2.5, but you have imgaug 0.2.9 which is incompatible.\u001b[0m\n",
            "Successfully installed matplotlib-3.0.2\n"
          ]
        },
        {
          "output_type": "display_data",
          "data": {
            "application/vnd.colab-display-data+json": {
              "pip_warning": {
                "packages": [
                  "matplotlib",
                  "mpl_toolkits"
                ]
              }
            }
          },
          "metadata": {}
        }
      ]
    },
    {
      "cell_type": "code",
      "source": [
        "import numpy as np"
      ],
      "metadata": {
        "id": "eNqkS3_Uj_AL"
      },
      "execution_count": 3,
      "outputs": []
    },
    {
      "cell_type": "markdown",
      "source": [
        "# CONFIG"
      ],
      "metadata": {
        "id": "kPWdZBTtBhz1"
      }
    },
    {
      "cell_type": "code",
      "source": [
        "train_model = False"
      ],
      "metadata": {
        "id": "nLlilkndBk3X"
      },
      "execution_count": null,
      "outputs": []
    },
    {
      "cell_type": "markdown",
      "source": [
        ""
      ],
      "metadata": {
        "id": "IQYnljUNXXgn"
      }
    },
    {
      "cell_type": "markdown",
      "source": [
        "# GET MODEL AND DATA"
      ],
      "metadata": {
        "id": "OspfoG3axHKI"
      }
    },
    {
      "cell_type": "code",
      "execution_count": null,
      "metadata": {
        "id": "cISwtApVrbf9"
      },
      "outputs": [],
      "source": [
        "import torch\n",
        "from torch import nn\n",
        "from d2l import torch as d2l\n",
        "\n",
        "# config\n",
        "net = nn.Sequential(\n",
        "    nn.Conv2d(1, 6, kernel_size=(5,5), padding=2), nn.Sigmoid(),\n",
        "    nn.AvgPool2d(kernel_size=2, stride=2),\n",
        "    nn.Conv2d(6, 16, kernel_size=(6,6)), nn.Sigmoid(),\n",
        "    nn.AvgPool2d(kernel_size=2, stride=2),\n",
        "    nn.Flatten(),\n",
        "    nn.Linear(16 * 4 * 4, 120), nn.Sigmoid(),\n",
        "    nn.Linear(120, 84), nn.Sigmoid(),\n",
        "    nn.Linear(84, 10))\n",
        "\n"
      ]
    },
    {
      "cell_type": "code",
      "source": [
        "X = torch.rand(size=(1, 1, 28, 28), dtype=torch.float32)\n",
        "for layer in net:\n",
        "    X = layer(X)\n",
        "    print(layer.__class__.__name__,'output shape: \\t',X.shape)"
      ],
      "metadata": {
        "colab": {
          "base_uri": "https://localhost:8080/"
        },
        "id": "NuW_YKsiZIvC",
        "outputId": "254b3c8b-1ae8-4eeb-ed74-4bcd678c53db"
      },
      "execution_count": null,
      "outputs": [
        {
          "output_type": "stream",
          "name": "stdout",
          "text": [
            "Conv2d output shape: \t torch.Size([1, 6, 28, 28])\n",
            "Sigmoid output shape: \t torch.Size([1, 6, 28, 28])\n",
            "AvgPool2d output shape: \t torch.Size([1, 6, 14, 14])\n",
            "Conv2d output shape: \t torch.Size([1, 16, 9, 9])\n",
            "Sigmoid output shape: \t torch.Size([1, 16, 9, 9])\n",
            "AvgPool2d output shape: \t torch.Size([1, 16, 4, 4])\n",
            "Flatten output shape: \t torch.Size([1, 256])\n",
            "Linear output shape: \t torch.Size([1, 120])\n",
            "Sigmoid output shape: \t torch.Size([1, 120])\n",
            "Linear output shape: \t torch.Size([1, 84])\n",
            "Sigmoid output shape: \t torch.Size([1, 84])\n",
            "Linear output shape: \t torch.Size([1, 10])\n"
          ]
        }
      ]
    },
    {
      "cell_type": "code",
      "source": [
        "import os\n",
        "import torch\n",
        "import torch.nn as nn\n",
        "from torch.autograd import Variable\n",
        "import torchvision.datasets as dset\n",
        "import torchvision.transforms as transforms\n",
        "import torch.nn.functional as F\n",
        "import torch.optim as optim\n",
        "## load mnist dataset\n",
        "use_cuda = torch.cuda.is_available()\n",
        "\n",
        "root = './data'\n",
        "if not os.path.exists(root):\n",
        "    os.mkdir(root)"
      ],
      "metadata": {
        "id": "ZMhIvqcRxRGy"
      },
      "execution_count": null,
      "outputs": []
    },
    {
      "cell_type": "code",
      "source": [
        "trans = transforms.Compose([transforms.ToTensor(), transforms.Normalize((0.5,), (1.0,))])\n",
        "# if not exist, download mnist dataset\n",
        "train_set = dset.MNIST(root=root, train=True, transform=trans, download=True)\n",
        "test_set = dset.MNIST(root=root, train=False, transform=trans, download=True)\n",
        "\n",
        "batch_size = 128\n",
        "\n",
        "train_iter = torch.utils.data.DataLoader(\n",
        "                 dataset=train_set,\n",
        "                 batch_size=batch_size,\n",
        "                 shuffle=True)\n",
        "test_iter = torch.utils.data.DataLoader(\n",
        "                dataset=test_set,\n",
        "                batch_size=batch_size,\n",
        "                shuffle=False)"
      ],
      "metadata": {
        "id": "xzIH4tAtjl1P",
        "colab": {
          "base_uri": "https://localhost:8080/",
          "height": 423,
          "referenced_widgets": [
            "e77bc70c51ca433f8b7070c07f18d8bb",
            "998bae9bf2b1452d8ebed87251006a42",
            "863a879706744c2dbadb7b420892e1c1",
            "6a05776ace094f499218fe0daeb0ab24",
            "2f7124bcc842417f8ea1d0ce0f8da7e0",
            "436ea04b699643bb89a79227d941c4b5",
            "25bd2693ab1c45f6b5cbc6cca42431c7",
            "4dbb69cd21e04ae28b56be373f0e1a00",
            "82c0a585747b4449bc01af902a0cc9cd",
            "1fc3931ecef2439193226d0f646a9786",
            "fc574a32f28847749886de7c79baa996",
            "beb79f5531244157a5fd284ab9b4f167",
            "518d3b8a57734ba0b43a9ec684cfe852",
            "426f8d5017544e3f8c284aaf05a8276e",
            "fede346317094800a12e9fa54721c3d9",
            "18b9ae89f00741fb932e4beae6430d81",
            "cbebc6e39a6b4a4f9bc5146e973a2e5d",
            "1c19b1dd8a3c4074be465eaba2c29580",
            "71345c85d8b24a3195cafd5ebb90c013",
            "24ee01b99bd64bd2a82978acb63441e6",
            "0e9af0dc3dcd48678a24625a020e418f",
            "08ec2ace104f44dd8515a0e4e84d5071",
            "b86db16d95a14aad911398341d386fa6",
            "1a4954ebf4124d06b89490c0ff1caf75",
            "0306ca5cc026410ab61ec56235937087",
            "244409b5647f4688a9a9f66e383324fe",
            "87eb70d74ff44952828f9dae62657be2",
            "2d044eb2cee741df9caa345a9f70e837",
            "24deabc9b58d4ecb84720188481cfefb",
            "63cc79dc2ff14303bb989a4fd0e350e3",
            "a2057bc1baad453fbf591630f1cd5f38",
            "084c43c126ae4ea4a5ce5272424192e4",
            "4be4354b80864515b2604585ea0c8532",
            "f8704bc053fe4ac38e91916b39b5ef7c",
            "3574b4e362554a1a9c6f3443eba955ee",
            "b1f255ab752842daa04175afa4b9cf57",
            "82c67858185e4621badaaf6451337b47",
            "2b0ec0ea43334800a44fd72b76863602",
            "600e8c26fc6d4838b23da66236e078b5",
            "495d244306d64a50974a0a7a0c33bbc4",
            "65e2a39c1581452ebd961af58f8eb47b",
            "cefb41898f9847bf9c3c47871da5fe61",
            "f03a92e5643740f9973cb0cebdf63dbc",
            "cbe29b68421f41ada89d2e748f92a5f1"
          ]
        },
        "outputId": "bff481ed-3008-46e6-83b3-1bdbc8dbb147"
      },
      "execution_count": null,
      "outputs": [
        {
          "output_type": "stream",
          "name": "stdout",
          "text": [
            "Downloading http://yann.lecun.com/exdb/mnist/train-images-idx3-ubyte.gz\n",
            "Downloading http://yann.lecun.com/exdb/mnist/train-images-idx3-ubyte.gz to ./data/MNIST/raw/train-images-idx3-ubyte.gz\n"
          ]
        },
        {
          "output_type": "display_data",
          "data": {
            "application/vnd.jupyter.widget-view+json": {
              "model_id": "e77bc70c51ca433f8b7070c07f18d8bb",
              "version_minor": 0,
              "version_major": 2
            },
            "text/plain": [
              "  0%|          | 0/9912422 [00:00<?, ?it/s]"
            ]
          },
          "metadata": {}
        },
        {
          "output_type": "stream",
          "name": "stdout",
          "text": [
            "Extracting ./data/MNIST/raw/train-images-idx3-ubyte.gz to ./data/MNIST/raw\n",
            "\n",
            "Downloading http://yann.lecun.com/exdb/mnist/train-labels-idx1-ubyte.gz\n",
            "Downloading http://yann.lecun.com/exdb/mnist/train-labels-idx1-ubyte.gz to ./data/MNIST/raw/train-labels-idx1-ubyte.gz\n"
          ]
        },
        {
          "output_type": "display_data",
          "data": {
            "application/vnd.jupyter.widget-view+json": {
              "model_id": "beb79f5531244157a5fd284ab9b4f167",
              "version_minor": 0,
              "version_major": 2
            },
            "text/plain": [
              "  0%|          | 0/28881 [00:00<?, ?it/s]"
            ]
          },
          "metadata": {}
        },
        {
          "output_type": "stream",
          "name": "stdout",
          "text": [
            "Extracting ./data/MNIST/raw/train-labels-idx1-ubyte.gz to ./data/MNIST/raw\n",
            "\n",
            "Downloading http://yann.lecun.com/exdb/mnist/t10k-images-idx3-ubyte.gz\n",
            "Downloading http://yann.lecun.com/exdb/mnist/t10k-images-idx3-ubyte.gz to ./data/MNIST/raw/t10k-images-idx3-ubyte.gz\n"
          ]
        },
        {
          "output_type": "display_data",
          "data": {
            "application/vnd.jupyter.widget-view+json": {
              "model_id": "b86db16d95a14aad911398341d386fa6",
              "version_minor": 0,
              "version_major": 2
            },
            "text/plain": [
              "  0%|          | 0/1648877 [00:00<?, ?it/s]"
            ]
          },
          "metadata": {}
        },
        {
          "output_type": "stream",
          "name": "stdout",
          "text": [
            "Extracting ./data/MNIST/raw/t10k-images-idx3-ubyte.gz to ./data/MNIST/raw\n",
            "\n",
            "Downloading http://yann.lecun.com/exdb/mnist/t10k-labels-idx1-ubyte.gz\n",
            "Downloading http://yann.lecun.com/exdb/mnist/t10k-labels-idx1-ubyte.gz to ./data/MNIST/raw/t10k-labels-idx1-ubyte.gz\n"
          ]
        },
        {
          "output_type": "display_data",
          "data": {
            "application/vnd.jupyter.widget-view+json": {
              "model_id": "f8704bc053fe4ac38e91916b39b5ef7c",
              "version_minor": 0,
              "version_major": 2
            },
            "text/plain": [
              "  0%|          | 0/4542 [00:00<?, ?it/s]"
            ]
          },
          "metadata": {}
        },
        {
          "output_type": "stream",
          "name": "stdout",
          "text": [
            "Extracting ./data/MNIST/raw/t10k-labels-idx1-ubyte.gz to ./data/MNIST/raw\n",
            "\n"
          ]
        }
      ]
    },
    {
      "cell_type": "code",
      "source": [
        "import matplotlib.pyplot as plt\n",
        "batch = next(iter(test_iter))\n",
        "plt.imshow(batch[0][0][0])"
      ],
      "metadata": {
        "colab": {
          "base_uri": "https://localhost:8080/",
          "height": 282
        },
        "id": "Acxy2lXtkYHw",
        "outputId": "de6c854c-e0f4-4460-ff60-0c3ca1914961"
      },
      "execution_count": null,
      "outputs": [
        {
          "output_type": "execute_result",
          "data": {
            "text/plain": [
              "<matplotlib.image.AxesImage at 0x7f8fad936750>"
            ]
          },
          "metadata": {},
          "execution_count": 8
        },
        {
          "output_type": "display_data",
          "data": {
            "image/png": "[encoded data removed]",
            "text/plain": [
              "<Figure size 432x288 with 1 Axes>"
            ]
          },
          "metadata": {
            "needs_background": "light"
          }
        }
      ]
    },
    {
      "cell_type": "code",
      "source": [
        "def evaluate_accuracy_gpu(net, data_iter, device=None):\n",
        "    \"\"\"Compute the accuracy for a model on a dataset using a GPU.\"\"\"\n",
        "    if isinstance(net, nn.Module):\n",
        "        net.eval()  # Set the model to evaluation mode\n",
        "        if not device:\n",
        "            device = next(iter(net.parameters())).device\n",
        "    # No. of correct predictions, no. of predictions\n",
        "    metric = d2l.Accumulator(2)\n",
        "\n",
        "    with torch.no_grad():\n",
        "        for X, y in data_iter:\n",
        "            if isinstance(X, list):\n",
        "                # Required for BERT Fine-tuning (to be covered later)\n",
        "                X = [x.to(device) for x in X]\n",
        "            else:\n",
        "                X = X.to(device)\n",
        "            y = y.to(device)\n",
        "            metric.add(d2l.accuracy(net(X), y), y.numel()) # y.numel() return the number of el in a tensor\n",
        "        \n",
        "    return metric[0] / metric[1]"
      ],
      "metadata": {
        "id": "YCxCl62cxTMC"
      },
      "execution_count": null,
      "outputs": []
    },
    {
      "cell_type": "code",
      "source": [
        "def train_ch6(net, train_iter, test_iter, num_epochs, lr, device):\n",
        "    \"\"\"Train a model with a GPU (defined in Chapter 6).\"\"\"\n",
        "    def init_weights(m):\n",
        "        if type(m) == nn.Linear or type(m) == nn.Conv2d:\n",
        "            nn.init.xavier_uniform_(m.weight)#init weight\n",
        "    net.apply(init_weights)\n",
        "    print('training on', device)\n",
        "    net.to(device)\n",
        "    optimizer = torch.optim.SGD(net.parameters(), lr=lr)\n",
        "    loss = nn.CrossEntropyLoss()\n",
        "    animator = d2l.Animator(xlabel='epoch', xlim=[1, num_epochs],\n",
        "                            legend=['train loss', 'train acc', 'test acc'])\n",
        "    timer, num_batches = d2l.Timer(), len(train_iter)\n",
        "    for epoch in range(num_epochs):\n",
        "        # Sum of training loss, sum of training accuracy, no. of examples\n",
        "        metric = d2l.Accumulator(3)\n",
        "        net.train()\n",
        "        for i, (X, y) in enumerate(train_iter):\n",
        "            timer.start()\n",
        "            optimizer.zero_grad()\n",
        "            X, y = X.to(device), y.to(device)\n",
        "            y_hat = net(X)\n",
        "            l = loss(y_hat, y)\n",
        "            l.backward()\n",
        "            optimizer.step()\n",
        "            with torch.no_grad():\n",
        "                metric.add(l * X.shape[0], d2l.accuracy(y_hat, y), X.shape[0])\n",
        "            timer.stop()\n",
        "            train_l = metric[0] / metric[2]\n",
        "            train_acc = metric[1] / metric[2]\n",
        "            if (i + 1) % (num_batches // 5) == 0 or i == num_batches - 1:\n",
        "                animator.add(epoch + (i + 1) / num_batches,\n",
        "                             (train_l, train_acc, None))\n",
        "        test_acc = evaluate_accuracy_gpu(net, test_iter)\n",
        "        animator.add(epoch + 1, (None, None, test_acc))\n",
        "    print(f'loss {train_l:.3f}, train acc {train_acc:.3f}, '\n",
        "          f'test acc {test_acc:.3f}')\n",
        "    print(f'{metric[2] * num_epochs / timer.sum():.1f} examples/sec '\n",
        "          f'on {str(device)}')"
      ],
      "metadata": {
        "id": "qDXfMWZxxWP8"
      },
      "execution_count": null,
      "outputs": []
    },
    {
      "cell_type": "code",
      "source": [
        "if train_model :\n",
        "  lr, num_epochs = 0.9, 10\n",
        "  train_ch6(net, train_iter, test_iter, num_epochs, lr, d2l.try_gpu())\n",
        "  torch.save(net, \"/content/drive/MyDrive/CS Work/Deep Learning/model_alexnet_newdata.pt\")\n"
      ],
      "metadata": {
        "id": "QXn74tkbxcdM"
      },
      "execution_count": null,
      "outputs": []
    },
    {
      "cell_type": "code",
      "source": [
        "# load the model\n",
        "model2 = torch.load(\"/content/drive/MyDrive/CS Work/Deep Learning/model_alexnet_newdata.pt\")"
      ],
      "metadata": {
        "id": "QfcKnjLz2L5H"
      },
      "execution_count": null,
      "outputs": []
    },
    {
      "cell_type": "code",
      "source": [
        ""
      ],
      "metadata": {
        "colab": {
          "base_uri": "https://localhost:8080/",
          "height": 357
        },
        "id": "qdZAmhcUY4nn",
        "outputId": "ccae1d7b-b005-4097-d88c-3ad7c93b87c9"
      },
      "execution_count": null,
      "outputs": [
        {
          "output_type": "error",
          "ename": "AttributeError",
          "evalue": "ignored",
          "traceback": [
            "\u001b[0;31m---------------------------------------------------------------------------\u001b[0m",
            "\u001b[0;31mAttributeError\u001b[0m                            Traceback (most recent call last)",
            "\u001b[0;32m<ipython-input-42-be7d40a7d32d>\u001b[0m in \u001b[0;36m<module>\u001b[0;34m()\u001b[0m\n\u001b[1;32m      1\u001b[0m \u001b[0mX\u001b[0m \u001b[0;34m=\u001b[0m \u001b[0mnp\u001b[0m\u001b[0;34m.\u001b[0m\u001b[0mrandom\u001b[0m\u001b[0;34m.\u001b[0m\u001b[0muniform\u001b[0m\u001b[0;34m(\u001b[0m\u001b[0msize\u001b[0m\u001b[0;34m=\u001b[0m\u001b[0;34m(\u001b[0m\u001b[0;36m1\u001b[0m\u001b[0;34m,\u001b[0m \u001b[0;36m1\u001b[0m\u001b[0;34m,\u001b[0m \u001b[0;36m28\u001b[0m\u001b[0;34m,\u001b[0m \u001b[0;36m28\u001b[0m\u001b[0;34m)\u001b[0m\u001b[0;34m)\u001b[0m\u001b[0;34m\u001b[0m\u001b[0;34m\u001b[0m\u001b[0m\n\u001b[0;32m----> 2\u001b[0;31m \u001b[0mnet\u001b[0m\u001b[0;34m.\u001b[0m\u001b[0minitialize\u001b[0m\u001b[0;34m(\u001b[0m\u001b[0;34m)\u001b[0m\u001b[0;34m\u001b[0m\u001b[0;34m\u001b[0m\u001b[0m\n\u001b[0m\u001b[1;32m      3\u001b[0m \u001b[0;32mfor\u001b[0m \u001b[0mlayer\u001b[0m \u001b[0;32min\u001b[0m \u001b[0mnet\u001b[0m\u001b[0;34m:\u001b[0m\u001b[0;34m\u001b[0m\u001b[0;34m\u001b[0m\u001b[0m\n\u001b[1;32m      4\u001b[0m     \u001b[0mX\u001b[0m \u001b[0;34m=\u001b[0m \u001b[0mlayer\u001b[0m\u001b[0;34m(\u001b[0m\u001b[0mX\u001b[0m\u001b[0;34m)\u001b[0m\u001b[0;34m\u001b[0m\u001b[0;34m\u001b[0m\u001b[0m\n\u001b[1;32m      5\u001b[0m     \u001b[0mprint\u001b[0m\u001b[0;34m(\u001b[0m\u001b[0mlayer\u001b[0m\u001b[0;34m.\u001b[0m\u001b[0mname\u001b[0m\u001b[0;34m,\u001b[0m \u001b[0;34m'output shape:\\t'\u001b[0m\u001b[0;34m,\u001b[0m \u001b[0mX\u001b[0m\u001b[0;34m.\u001b[0m\u001b[0mshape\u001b[0m\u001b[0;34m)\u001b[0m\u001b[0;34m\u001b[0m\u001b[0;34m\u001b[0m\u001b[0m\n",
            "\u001b[0;32m/usr/local/lib/python3.7/dist-packages/torch/nn/modules/module.py\u001b[0m in \u001b[0;36m__getattr__\u001b[0;34m(self, name)\u001b[0m\n\u001b[1;32m   1176\u001b[0m                 \u001b[0;32mreturn\u001b[0m \u001b[0mmodules\u001b[0m\u001b[0;34m[\u001b[0m\u001b[0mname\u001b[0m\u001b[0;34m]\u001b[0m\u001b[0;34m\u001b[0m\u001b[0;34m\u001b[0m\u001b[0m\n\u001b[1;32m   1177\u001b[0m         raise AttributeError(\"'{}' object has no attribute '{}'\".format(\n\u001b[0;32m-> 1178\u001b[0;31m             type(self).__name__, name))\n\u001b[0m\u001b[1;32m   1179\u001b[0m \u001b[0;34m\u001b[0m\u001b[0m\n\u001b[1;32m   1180\u001b[0m     \u001b[0;32mdef\u001b[0m \u001b[0m__setattr__\u001b[0m\u001b[0;34m(\u001b[0m\u001b[0mself\u001b[0m\u001b[0;34m,\u001b[0m \u001b[0mname\u001b[0m\u001b[0;34m:\u001b[0m \u001b[0mstr\u001b[0m\u001b[0;34m,\u001b[0m \u001b[0mvalue\u001b[0m\u001b[0;34m:\u001b[0m \u001b[0mUnion\u001b[0m\u001b[0;34m[\u001b[0m\u001b[0mTensor\u001b[0m\u001b[0;34m,\u001b[0m \u001b[0;34m'Module'\u001b[0m\u001b[0;34m]\u001b[0m\u001b[0;34m)\u001b[0m \u001b[0;34m->\u001b[0m \u001b[0;32mNone\u001b[0m\u001b[0;34m:\u001b[0m\u001b[0;34m\u001b[0m\u001b[0;34m\u001b[0m\u001b[0m\n",
            "\u001b[0;31mAttributeError\u001b[0m: 'Sequential' object has no attribute 'initialize'"
          ]
        }
      ]
    },
    {
      "cell_type": "code",
      "source": [
        "# get a batch\n",
        "batch = next(iter(test_iter))\n",
        "# indice 0 -> 7 indice 1 - > 2\n",
        "model2(batch[0])"
      ],
      "metadata": {
        "colab": {
          "base_uri": "https://localhost:8080/"
        },
        "id": "zSSS-ATp-W6E",
        "outputId": "40bd10e1-aa1c-433c-ce20-5ba739f9239f"
      },
      "execution_count": null,
      "outputs": [
        {
          "output_type": "execute_result",
          "data": {
            "text/plain": [
              "tensor([[-1.4879, -0.5589,  3.3838,  ..., 12.8980, -1.3268,  2.0018],\n",
              "        [ 0.6486,  5.1182, 11.7079,  ..., -2.0710,  1.9049, -6.4429],\n",
              "        [-5.8808,  9.3060,  2.0478,  ...,  0.5970,  1.5642, -2.1733],\n",
              "        ...,\n",
              "        [-3.8072, -3.3312, -1.7265,  ...,  0.4228,  1.2878,  9.7326],\n",
              "        [ 8.0943, -6.7225,  0.7455,  ..., -1.5845, -0.8225,  2.5540],\n",
              "        [-2.1854, -3.5831, -8.2574,  ..., -3.5064,  4.3184,  3.3702]],\n",
              "       grad_fn=<AddmmBackward0>)"
            ]
          },
          "metadata": {},
          "execution_count": 13
        }
      ]
    },
    {
      "cell_type": "code",
      "source": [
        ""
      ],
      "metadata": {
        "id": "w184csEYmH1w"
      },
      "execution_count": null,
      "outputs": []
    },
    {
      "cell_type": "markdown",
      "source": [
        "# SPLIT OF THE NET (FEATURE EXTRACTOR AND CLASSIFIER)"
      ],
      "metadata": {
        "id": "ZsSKPSYFAt42"
      }
    },
    {
      "cell_type": "code",
      "source": [
        "for layer in model2:\n",
        "  print(layer)"
      ],
      "metadata": {
        "colab": {
          "base_uri": "https://localhost:8080/"
        },
        "id": "9S7wxYHWk2w4",
        "outputId": "1bc4b2db-8f37-48c1-b4ce-e7b9a3fa39d2"
      },
      "execution_count": null,
      "outputs": [
        {
          "output_type": "stream",
          "name": "stdout",
          "text": [
            "Conv2d(1, 6, kernel_size=(5, 5), stride=(1, 1), padding=(2, 2))\n",
            "Sigmoid()\n",
            "AvgPool2d(kernel_size=2, stride=2, padding=0)\n",
            "Conv2d(6, 16, kernel_size=(6, 6), stride=(1, 1))\n",
            "Sigmoid()\n",
            "AvgPool2d(kernel_size=2, stride=2, padding=0)\n",
            "Flatten(start_dim=1, end_dim=-1)\n",
            "Linear(in_features=256, out_features=120, bias=True)\n",
            "Sigmoid()\n",
            "Linear(in_features=120, out_features=84, bias=True)\n",
            "Sigmoid()\n",
            "Linear(in_features=84, out_features=10, bias=True)\n"
          ]
        }
      ]
    },
    {
      "cell_type": "code",
      "source": [
        "# found feature extractor\n",
        "for layer in model2[0:6]:\n",
        "  print(layer)\n",
        "\n",
        "feature_extractor = model2[0:6]"
      ],
      "metadata": {
        "colab": {
          "base_uri": "https://localhost:8080/"
        },
        "id": "CdYd7525e_7Y",
        "outputId": "104a6ef9-4e34-4f5c-ea68-fa7a209a313d"
      },
      "execution_count": null,
      "outputs": [
        {
          "output_type": "stream",
          "name": "stdout",
          "text": [
            "Conv2d(1, 6, kernel_size=(5, 5), stride=(1, 1), padding=(2, 2))\n",
            "Sigmoid()\n",
            "AvgPool2d(kernel_size=2, stride=2, padding=0)\n",
            "Conv2d(6, 16, kernel_size=(6, 6), stride=(1, 1))\n",
            "Sigmoid()\n",
            "AvgPool2d(kernel_size=2, stride=2, padding=0)\n"
          ]
        }
      ]
    },
    {
      "cell_type": "code",
      "source": [
        "# found classifier\n",
        "for layer in model2[6:]:\n",
        "  print(layer)\n",
        "\n",
        "classifier = model2[6:]"
      ],
      "metadata": {
        "colab": {
          "base_uri": "https://localhost:8080/"
        },
        "id": "F4ktZcPNkz8L",
        "outputId": "3ddbca98-b039-4006-8ac6-0cde26343c00"
      },
      "execution_count": null,
      "outputs": [
        {
          "output_type": "stream",
          "name": "stdout",
          "text": [
            "Flatten(start_dim=1, end_dim=-1)\n",
            "Linear(in_features=256, out_features=120, bias=True)\n",
            "Sigmoid()\n",
            "Linear(in_features=120, out_features=84, bias=True)\n",
            "Sigmoid()\n",
            "Linear(in_features=84, out_features=10, bias=True)\n"
          ]
        }
      ]
    },
    {
      "cell_type": "markdown",
      "source": [
        "# EXTRACT FEATURES"
      ],
      "metadata": {
        "id": "A1XIcvUpEoPq"
      }
    },
    {
      "cell_type": "code",
      "source": [
        "features = feature_extractor(batch[0])\n",
        "features.shape\n"
      ],
      "metadata": {
        "colab": {
          "base_uri": "https://localhost:8080/"
        },
        "id": "7U7lE9bVoXE4",
        "outputId": "dc73342e-5c8b-4a8d-cccb-90e5178b9472"
      },
      "execution_count": null,
      "outputs": [
        {
          "output_type": "execute_result",
          "data": {
            "text/plain": [
              "torch.Size([128, 16, 4, 4])"
            ]
          },
          "metadata": {},
          "execution_count": 94
        }
      ]
    },
    {
      "cell_type": "markdown",
      "source": [
        "# Utils functions"
      ],
      "metadata": {
        "id": "cDw6GTY9k-OB"
      }
    },
    {
      "cell_type": "code",
      "source": [
        "def reshape_features(features):\n",
        "  feat_reshape = features.reshape(\n",
        "      ( features.shape[0],  features.shape[1],  features.shape[2] * features.shape[3])\n",
        "      )\n",
        "  return feat_reshape\n",
        "\n",
        "#shape_0_feat_reshape = torch.zeros(feat_reshape.shape)"
      ],
      "metadata": {
        "id": "AlJcCzpyTi_Q"
      },
      "execution_count": null,
      "outputs": []
    },
    {
      "cell_type": "code",
      "source": [
        "def reshape_for_classifier(new_features):\n",
        "  new_features_reshape = new_features.reshape(\n",
        "                ( new_features.shape[0],  new_features.shape[1],\n",
        "                int(np.sqrt(new_features.shape[2])), int(np.sqrt(new_features.shape[2])))\n",
        "                )\n",
        "  return new_features_reshape"
      ],
      "metadata": {
        "id": "eBpSw2aF4kwR"
      },
      "execution_count": null,
      "outputs": []
    },
    {
      "cell_type": "markdown",
      "source": [
        "# FOUND THE COMBINAISON OF MODIFICATION"
      ],
      "metadata": {
        "id": "-EnKGQqutUll"
      }
    },
    {
      "cell_type": "code",
      "source": [
        "features.shape"
      ],
      "metadata": {
        "colab": {
          "base_uri": "https://localhost:8080/"
        },
        "id": "BrMZgqRt-Bsk",
        "outputId": "c9cb0746-0607-4797-ceee-a348edd6161d"
      },
      "execution_count": null,
      "outputs": [
        {
          "output_type": "execute_result",
          "data": {
            "text/plain": [
              "torch.Size([128, 16, 4, 4])"
            ]
          },
          "metadata": {},
          "execution_count": 95
        }
      ]
    },
    {
      "cell_type": "code",
      "source": [
        "features_reshape = reshape_features(features)"
      ],
      "metadata": {
        "id": "u6B-vnjrtuSX"
      },
      "execution_count": null,
      "outputs": []
    },
    {
      "cell_type": "code",
      "source": [
        "# get the number of features to try to make all possibles combinaisons\n",
        "number_features = features_reshape.shape[1]"
      ],
      "metadata": {
        "id": "9PqjwiN7o__n"
      },
      "execution_count": null,
      "outputs": []
    },
    {
      "cell_type": "code",
      "source": [
        "# indice 0 -> 7 indice 1 - > 2\n",
        "modif_indice = 0 # indice on the batch of the element modify\n",
        "inserting_indice = 4 # indice in the batch of the element which injected\n",
        "arg_inserting = int(torch.argmax(classifier(features)[inserting_indice])) # argmax for the inserting_indice \n",
        "\n",
        "best_pred = float(classifier(features)[0][2])\n",
        "best_injection_tuple = (0,0)\n",
        "\n",
        "# list possible injection and inserting index\n",
        "list_possible_injection_modif_indice = list(range(number_features))\n",
        "list_possible_injection_inserting_indice = list(range(number_features))\n",
        "\n",
        "# list of all modifications\n",
        "\n",
        "all_tuple_of_injection = []\n"
      ],
      "metadata": {
        "id": "3DNtoTP8mFHG"
      },
      "execution_count": null,
      "outputs": []
    },
    {
      "cell_type": "code",
      "source": [
        "# check the prediction before doing the modifications for the modif\n",
        "torch.argmax(classifier(features)[modif_indice])"
      ],
      "metadata": {
        "colab": {
          "base_uri": "https://localhost:8080/"
        },
        "id": "a-KRSV7E9jeX",
        "outputId": "11470e33-becb-401e-d2ae-7cdb242b7f3f"
      },
      "execution_count": null,
      "outputs": [
        {
          "output_type": "execute_result",
          "data": {
            "text/plain": [
              "tensor(7)"
            ]
          },
          "metadata": {},
          "execution_count": 99
        }
      ]
    },
    {
      "cell_type": "code",
      "source": [
        "# check the prediction before doing the modifications for the inserting\n",
        "torch.argmax(classifier(features)[inserting_indice])"
      ],
      "metadata": {
        "colab": {
          "base_uri": "https://localhost:8080/"
        },
        "id": "b5jRLy17-Xru",
        "outputId": "508d7ea0-a2bf-4290-d5d2-e2a613544466"
      },
      "execution_count": null,
      "outputs": [
        {
          "output_type": "execute_result",
          "data": {
            "text/plain": [
              "tensor(4)"
            ]
          },
          "metadata": {},
          "execution_count": 100
        }
      ]
    },
    {
      "cell_type": "code",
      "source": [
        "def found_best_edit(features_reshape,\n",
        "                    modif_indice,\n",
        "                    inserting_indice,\n",
        "                    arg_inserting,\n",
        "                    best_pred,\n",
        "                    best_injection_tuple,\n",
        "                    list_possible_injection_modif_indice,\n",
        "                    list_possible_injection_inserting_indice,\n",
        "                    all_tuple_of_injection):\n",
        "  \"\"\"\n",
        "  function which try each possible combinaison of modif_indic and inserting_indice\n",
        "  to maximise the prediction of the injection image\n",
        "  \"\"\"\n",
        "\n",
        "  # we want a least on change\n",
        "  best_pred = float('-inf')\n",
        "\n",
        "  # counter sur le nombre de modification interessantes\n",
        "  counter_modif = 0\n",
        "  # try all combinaison\n",
        "  print(\"list possible modif : \"+ str(list_possible_injection_modif_indice))\n",
        "  print(\"list possible insert : \"+ str(list_possible_injection_inserting_indice))\n",
        "  for i in list_possible_injection_modif_indice:\n",
        "    for j in list_possible_injection_inserting_indice:\n",
        "      injection_modif_indice = i # index of the part of the image that will be replaced\n",
        "      injection_inserting_indice = j  # index of the part of the image that will be injected\n",
        "\n",
        "      new_features = features_reshape.clone() # copy of the features_reshape\n",
        "      # add new value\n",
        "      for k in range(features_reshape.shape[1]):\n",
        "        # Change is made for each layer\n",
        "        new_features[modif_indice][k][injection_modif_indice] = features_reshape[inserting_indice][k][injection_inserting_indice]\n",
        "      # reshape\n",
        "      new_features_reshape = reshape_for_classifier(new_features)\n",
        "      # Prediction\n",
        "      pred = float(classifier(new_features_reshape)[modif_indice][arg_inserting]) # pred with the new feat\n",
        "      #pred_old = float(classifier(features)[0][2]) # pred old feat\n",
        "\n",
        "      # tcheck if the pred is interesting\n",
        "      if pred >= best_pred:\n",
        "        print(\"modif trouvée pour la modif : \"+str(counter_modif))\n",
        "\n",
        "        counter_modif = counter_modif + 1\n",
        "        best_pred = pred\n",
        "        best_injection_tuple = (injection_modif_indice, injection_inserting_indice)\n",
        "        #print(\"nouvelle meilleure pred : \"+str(pred))\n",
        "  \n",
        "  # check if\n",
        "  if counter_modif == 0 :\n",
        "    print(\"WARNING : NOT ANY INTERESTING MODIFICATION\")\n",
        "  # update features_reshape with the best transformation\n",
        "  for k in range(features_reshape.shape[1]):\n",
        "    # for each layer\n",
        "    features_reshape[modif_indice][k][best_injection_tuple[0]] = features_reshape[inserting_indice][k][best_injection_tuple[1]]\n",
        "  # remove element selected in lists of possible injections\n",
        "  print(\"best injection : \"  + str(best_injection_tuple))\n",
        "  list_possible_injection_modif_indice.remove(best_injection_tuple[0])\n",
        "  list_possible_injection_inserting_indice.remove(best_injection_tuple[1])\n",
        "\n",
        "  all_tuple_of_injection.append(best_injection_tuple)\n",
        "\n",
        "  print(\"Size of list of possible injections : \"+ str(len(list_possible_injection_modif_indice)))\n",
        "\n",
        "\n",
        "  # return new values\n",
        "  return features_reshape, best_pred, best_injection_tuple, list_possible_injection_modif_indice, list_possible_injection_inserting_indice, all_tuple_of_injection\n"
      ],
      "metadata": {
        "id": "nHoF17hP5qiI"
      },
      "execution_count": null,
      "outputs": []
    },
    {
      "cell_type": "markdown",
      "source": [
        "### Made edit until the prediction change"
      ],
      "metadata": {
        "id": "TY6AqI4ZMc0k"
      }
    },
    {
      "cell_type": "code",
      "source": [
        "# Doing the modifications until the chnage in the predicitions\n",
        "pred_has_not_changed = True\n",
        "\n",
        "counter_nb_modif = 0\n",
        "\n",
        "while pred_has_not_changed :\n",
        "\n",
        "  features_reshape, best_pred, best_injection_tuple,\\\n",
        "  list_possible_injection_modif_indice,\\\n",
        "    list_possible_injection_inserting_indice, all_tuple_of_injection = found_best_edit(features_reshape,\n",
        "                      modif_indice,\n",
        "                      inserting_indice,\n",
        "                      arg_inserting,\n",
        "                      best_pred,\n",
        "                      best_injection_tuple,\n",
        "                      list_possible_injection_modif_indice,\n",
        "                      list_possible_injection_inserting_indice,\n",
        "                      all_tuple_of_injection)\n",
        "  # print the nb of modification\n",
        "  counter_nb_modif = counter_nb_modif + 1\n",
        "  print(\"Number of modifications : \"+ str(counter_nb_modif))\n",
        "  # tcheck if the val of prediction has change\n",
        "  if torch.argmax(classifier(reshape_for_classifier(features_reshape))[modif_indice]) == arg_inserting :\n",
        "    print(\"The prediction has changes\")\n",
        "    pred_has_not_changed = False"
      ],
      "metadata": {
        "colab": {
          "base_uri": "https://localhost:8080/"
        },
        "id": "-yyEdfKI6XtP",
        "outputId": "77ee7234-c77f-4080-ed4e-7f25ce7ef038"
      },
      "execution_count": null,
      "outputs": [
        {
          "output_type": "stream",
          "name": "stdout",
          "text": [
            "list possible modif : [0, 1, 2, 3, 4, 5, 6, 7, 8, 9, 10, 11, 12, 13, 14, 15]\n",
            "list possible insert : [0, 1, 2, 3, 4, 5, 6, 7, 8, 9, 10, 11, 12, 13, 14, 15]\n",
            "modif trouvée pour la modif : 0\n",
            "modif trouvée pour la modif : 1\n",
            "modif trouvée pour la modif : 2\n",
            "modif trouvée pour la modif : 3\n",
            "modif trouvée pour la modif : 4\n",
            "best injection : (2, 2)\n",
            "Size of list of possible injections : 15\n",
            "Number of modifications : 1\n",
            "list possible modif : [0, 1, 3, 4, 5, 6, 7, 8, 9, 10, 11, 12, 13, 14, 15]\n",
            "list possible insert : [0, 1, 3, 4, 5, 6, 7, 8, 9, 10, 11, 12, 13, 14, 15]\n",
            "modif trouvée pour la modif : 0\n",
            "modif trouvée pour la modif : 1\n",
            "modif trouvée pour la modif : 2\n",
            "best injection : (4, 6)\n",
            "Size of list of possible injections : 14\n",
            "Number of modifications : 2\n",
            "list possible modif : [0, 1, 3, 5, 6, 7, 8, 9, 10, 11, 12, 13, 14, 15]\n",
            "list possible insert : [0, 1, 3, 4, 5, 7, 8, 9, 10, 11, 12, 13, 14, 15]\n",
            "modif trouvée pour la modif : 0\n",
            "modif trouvée pour la modif : 1\n",
            "best injection : (1, 0)\n",
            "Size of list of possible injections : 13\n",
            "Number of modifications : 3\n",
            "list possible modif : [0, 3, 5, 6, 7, 8, 9, 10, 11, 12, 13, 14, 15]\n",
            "list possible insert : [1, 3, 4, 5, 7, 8, 9, 10, 11, 12, 13, 14, 15]\n",
            "modif trouvée pour la modif : 0\n",
            "modif trouvée pour la modif : 1\n",
            "modif trouvée pour la modif : 2\n",
            "modif trouvée pour la modif : 3\n",
            "best injection : (3, 5)\n",
            "Size of list of possible injections : 12\n",
            "Number of modifications : 4\n",
            "list possible modif : [0, 5, 6, 7, 8, 9, 10, 11, 12, 13, 14, 15]\n",
            "list possible insert : [1, 3, 4, 7, 8, 9, 10, 11, 12, 13, 14, 15]\n",
            "modif trouvée pour la modif : 0\n",
            "modif trouvée pour la modif : 1\n",
            "modif trouvée pour la modif : 2\n",
            "modif trouvée pour la modif : 3\n",
            "modif trouvée pour la modif : 4\n",
            "modif trouvée pour la modif : 5\n",
            "modif trouvée pour la modif : 6\n",
            "modif trouvée pour la modif : 7\n",
            "best injection : (6, 10)\n",
            "Size of list of possible injections : 11\n",
            "Number of modifications : 5\n",
            "list possible modif : [0, 5, 7, 8, 9, 10, 11, 12, 13, 14, 15]\n",
            "list possible insert : [1, 3, 4, 7, 8, 9, 11, 12, 13, 14, 15]\n",
            "modif trouvée pour la modif : 0\n",
            "modif trouvée pour la modif : 1\n",
            "modif trouvée pour la modif : 2\n",
            "modif trouvée pour la modif : 3\n",
            "modif trouvée pour la modif : 4\n",
            "modif trouvée pour la modif : 5\n",
            "modif trouvée pour la modif : 6\n",
            "modif trouvée pour la modif : 7\n",
            "best injection : (7, 11)\n",
            "Size of list of possible injections : 10\n",
            "Number of modifications : 6\n",
            "list possible modif : [0, 5, 8, 9, 10, 11, 12, 13, 14, 15]\n",
            "list possible insert : [1, 3, 4, 7, 8, 9, 12, 13, 14, 15]\n",
            "modif trouvée pour la modif : 0\n",
            "modif trouvée pour la modif : 1\n",
            "modif trouvée pour la modif : 2\n",
            "modif trouvée pour la modif : 3\n",
            "modif trouvée pour la modif : 4\n",
            "modif trouvée pour la modif : 5\n",
            "modif trouvée pour la modif : 6\n",
            "modif trouvée pour la modif : 7\n",
            "best injection : (5, 9)\n",
            "Size of list of possible injections : 9\n",
            "Number of modifications : 7\n",
            "The prediction has changes\n"
          ]
        }
      ]
    },
    {
      "cell_type": "code",
      "source": [
        "# all injection\n",
        "all_tuple_of_injection"
      ],
      "metadata": {
        "colab": {
          "base_uri": "https://localhost:8080/"
        },
        "id": "rVQ9K9xnIm63",
        "outputId": "0b452bb3-9509-4a11-c582-e0265e8af2d8"
      },
      "execution_count": null,
      "outputs": [
        {
          "output_type": "execute_result",
          "data": {
            "text/plain": [
              "[(2, 2), (4, 6), (1, 0), (3, 5), (6, 10), (7, 11), (5, 9)]"
            ]
          },
          "metadata": {},
          "execution_count": 103
        }
      ]
    },
    {
      "cell_type": "code",
      "source": [
        "torch.argmax(classifier(reshape_for_classifier(features_reshape))[modif_indice])"
      ],
      "metadata": {
        "colab": {
          "base_uri": "https://localhost:8080/"
        },
        "id": "pZiKqeTbwAcB",
        "outputId": "50c8a5b3-d619-4ee1-d317-bf464d5569e1"
      },
      "execution_count": null,
      "outputs": [
        {
          "output_type": "execute_result",
          "data": {
            "text/plain": [
              "tensor(4)"
            ]
          },
          "metadata": {},
          "execution_count": 104
        }
      ]
    },
    {
      "cell_type": "code",
      "source": [
        "# get a batch\n",
        "batch = next(iter(test_iter))\n",
        "# indice 0 -> 9 indice 1 - > 2\n",
        "model2(batch[0])"
      ],
      "metadata": {
        "colab": {
          "base_uri": "https://localhost:8080/"
        },
        "id": "cVwlasLrEB4F",
        "outputId": "fa83379e-8161-47d5-a466-b7246530415b"
      },
      "execution_count": null,
      "outputs": [
        {
          "output_type": "execute_result",
          "data": {
            "text/plain": [
              "tensor([[-1.4879, -0.5589,  3.3838,  ..., 12.8980, -1.3268,  2.0018],\n",
              "        [ 0.6486,  5.1182, 11.7079,  ..., -2.0710,  1.9049, -6.4429],\n",
              "        [-5.8808,  9.3060,  2.0478,  ...,  0.5970,  1.5642, -2.1733],\n",
              "        ...,\n",
              "        [-3.8072, -3.3312, -1.7265,  ...,  0.4228,  1.2878,  9.7326],\n",
              "        [ 8.0943, -6.7225,  0.7455,  ..., -1.5845, -0.8225,  2.5540],\n",
              "        [-2.1854, -3.5831, -8.2574,  ..., -3.5064,  4.3184,  3.3702]],\n",
              "       grad_fn=<AddmmBackward0>)"
            ]
          },
          "metadata": {},
          "execution_count": 105
        }
      ]
    },
    {
      "cell_type": "markdown",
      "source": [
        "# Translate the modification in the new coordinates : "
      ],
      "metadata": {
        "id": "lTeYa2FhTucv"
      }
    },
    {
      "cell_type": "code",
      "source": [
        "def index_to_coordinates(index_test, size_shape):\n",
        "  \"\"\"\n",
        "  function that translates the change coordinates in the tensor reshape into the original coordinates\n",
        "  index_test : val of index in the the reshape tensor\n",
        "  size_shape : size of the original shape (ex : 4 for a 4*4)\n",
        "  \"\"\"\n",
        "  #index_test = index_test\n",
        "  # columns indice\n",
        "  col_indice = (index_test) % size_shape\n",
        "  # line indice\n",
        "  line_indice = int((index_test)/ size_shape)\n",
        "\n",
        "  return (line_indice, col_indice)\n"
      ],
      "metadata": {
        "id": "3Lxf67CVJ-87"
      },
      "execution_count": null,
      "outputs": []
    },
    {
      "cell_type": "code",
      "source": [
        "def get_original_indexes(indexes, INPUT_1, OUTPUT_SIZE):\n",
        "    size_ratio = (int(INPUT_1[0]/OUTPUT_SIZE[0]), int(INPUT_1[1]/OUTPUT_SIZE[1]))\n",
        "    original_indexes = []\n",
        "    #print(size_ratio)\n",
        "\n",
        "    for index in indexes:\n",
        "        for i in range(size_ratio[0]):\n",
        "            for j in range(size_ratio[1]):\n",
        "                new_index = [index[0]*size_ratio[0], index[1]*size_ratio[1]]\n",
        "                if new_index[0] + i < INPUT_1[0]:\n",
        "                    new_index[0] += i\n",
        "                if new_index[1] + j < INPUT_1[1]:\n",
        "                    new_index[1] += j\n",
        "                original_indexes.append(new_index)\n",
        "    return original_indexes"
      ],
      "metadata": {
        "id": "GIYCxE2JTGz5"
      },
      "execution_count": 1,
      "outputs": []
    },
    {
      "cell_type": "code",
      "source": [
        "get_original_indexes([(0,0)], (28,28), (4,4))"
      ],
      "metadata": {
        "colab": {
          "base_uri": "https://localhost:8080/"
        },
        "id": "Q545y7gERpPA",
        "outputId": "dcf2a559-9f50-4bc4-ada6-915d040bb790"
      },
      "execution_count": 6,
      "outputs": [
        {
          "output_type": "execute_result",
          "data": {
            "text/plain": [
              "[[0, 0],\n",
              " [0, 1],\n",
              " [0, 2],\n",
              " [0, 3],\n",
              " [0, 4],\n",
              " [0, 5],\n",
              " [0, 6],\n",
              " [1, 0],\n",
              " [1, 1],\n",
              " [1, 2],\n",
              " [1, 3],\n",
              " [1, 4],\n",
              " [1, 5],\n",
              " [1, 6],\n",
              " [2, 0],\n",
              " [2, 1],\n",
              " [2, 2],\n",
              " [2, 3],\n",
              " [2, 4],\n",
              " [2, 5],\n",
              " [2, 6],\n",
              " [3, 0],\n",
              " [3, 1],\n",
              " [3, 2],\n",
              " [3, 3],\n",
              " [3, 4],\n",
              " [3, 5],\n",
              " [3, 6],\n",
              " [4, 0],\n",
              " [4, 1],\n",
              " [4, 2],\n",
              " [4, 3],\n",
              " [4, 4],\n",
              " [4, 5],\n",
              " [4, 6],\n",
              " [5, 0],\n",
              " [5, 1],\n",
              " [5, 2],\n",
              " [5, 3],\n",
              " [5, 4],\n",
              " [5, 5],\n",
              " [5, 6],\n",
              " [6, 0],\n",
              " [6, 1],\n",
              " [6, 2],\n",
              " [6, 3],\n",
              " [6, 4],\n",
              " [6, 5],\n",
              " [6, 6]]"
            ]
          },
          "metadata": {},
          "execution_count": 6
        }
      ]
    },
    {
      "cell_type": "code",
      "source": [
        "import matplotlib.pyplot as plt\n",
        "def visualize_transformation(original_indexes, original_image):\n",
        "    original_image = original_image.tolist()\n",
        "    highlighted_image = original_image.copy()\n",
        "\n",
        "    for i,j in original_indexes:\n",
        "      try:\n",
        "          highlighted_image[i][j] = max((highlighted_image[i][j]+0.4),1)\n",
        "      except :\n",
        "        print(\"impossible : \"+str(i)+str(j))\n",
        "\n",
        "    plt.imshow(highlighted_image)\n",
        "    plt.show()\n",
        "    \n",
        "    return highlighted_image\n"
      ],
      "metadata": {
        "id": "Z9y82iIaZo1d"
      },
      "execution_count": null,
      "outputs": []
    },
    {
      "cell_type": "code",
      "source": [
        "all_tuple_of_injection"
      ],
      "metadata": {
        "colab": {
          "base_uri": "https://localhost:8080/"
        },
        "id": "gSb2DCYkgN9r",
        "outputId": "dc69907f-b720-40c8-ae2f-7c8352679830"
      },
      "execution_count": null,
      "outputs": [
        {
          "output_type": "execute_result",
          "data": {
            "text/plain": [
              "[(2, 2), (4, 6), (1, 0), (3, 5), (6, 10), (7, 11), (5, 9)]"
            ]
          },
          "metadata": {},
          "execution_count": 109
        }
      ]
    },
    {
      "cell_type": "code",
      "source": [
        "injection_first_image = [x[0] for x in all_tuple_of_injection]\n",
        "injection_second_image = [x[1] for x in all_tuple_of_injection]\n",
        "injection_first_image\n",
        "injection_second_image"
      ],
      "metadata": {
        "colab": {
          "base_uri": "https://localhost:8080/"
        },
        "id": "8MhIajzARGJZ",
        "outputId": "cfac8c20-e64a-48cb-bb1a-844715727b34"
      },
      "execution_count": null,
      "outputs": [
        {
          "output_type": "execute_result",
          "data": {
            "text/plain": [
              "[2, 6, 0, 5, 10, 11, 9]"
            ]
          },
          "metadata": {},
          "execution_count": 110
        }
      ]
    },
    {
      "cell_type": "code",
      "source": [
        "# conversion des coordonnées de shape (16,) à (4,4) (par exemple)\n",
        "size_shape = 4\n",
        "coordinates_injection_first_image =  [index_to_coordinates(x, size_shape) for x in injection_first_image]\n",
        "coordinates_injection_second_image =  [index_to_coordinates(x, size_shape) for x in injection_second_image]\n",
        "\n",
        "coordinates_injection_first_image\n",
        "coordinates_injection_second_image"
      ],
      "metadata": {
        "colab": {
          "base_uri": "https://localhost:8080/"
        },
        "id": "9pcwZqwHLwrc",
        "outputId": "039f60d3-2968-45b1-e555-5f51be3ffb9d"
      },
      "execution_count": null,
      "outputs": [
        {
          "output_type": "execute_result",
          "data": {
            "text/plain": [
              "[(0, 2), (1, 2), (0, 0), (1, 1), (2, 2), (2, 3), (2, 1)]"
            ]
          },
          "metadata": {},
          "execution_count": 111
        }
      ]
    },
    {
      "cell_type": "code",
      "source": [
        "# original indexes\n",
        "INPUT_1 = (28,28)\n",
        "OUTPUT_SIZE = (4,4)"
      ],
      "metadata": {
        "id": "CDq17Lvm1nZq"
      },
      "execution_count": null,
      "outputs": []
    },
    {
      "cell_type": "code",
      "source": [
        "# get the original coordinates\n",
        "index_original_coordinates_first_image = get_original_indexes(coordinates_injection_first_image, INPUT_1, OUTPUT_SIZE)\n",
        "index_original_coordinates_second_image = get_original_indexes(coordinates_injection_second_image, INPUT_1, OUTPUT_SIZE)"
      ],
      "metadata": {
        "id": "r3EjjDEQT945"
      },
      "execution_count": null,
      "outputs": []
    },
    {
      "cell_type": "code",
      "source": [
        "# get the original images\n",
        "original_first_image = batch[0][modif_indice][0]\n",
        "original_second_image = batch[0][inserting_indice][0]\n",
        "\n",
        "# plot\n",
        "plt.figure()\n",
        "plt.imshow(original_first_image)\n",
        "plt.figure()\n",
        "plt.imshow(original_second_image)"
      ],
      "metadata": {
        "id": "k09Rey0zazpl",
        "colab": {
          "base_uri": "https://localhost:8080/",
          "height": 530
        },
        "outputId": "d9576109-6931-480a-f8e2-841110771d3b"
      },
      "execution_count": null,
      "outputs": [
        {
          "output_type": "execute_result",
          "data": {
            "text/plain": [
              "<matplotlib.image.AxesImage at 0x7f8facaa3350>"
            ]
          },
          "metadata": {},
          "execution_count": 114
        },
        {
          "output_type": "display_data",
          "data": {
            "image/png": "[encoded data removed]",
            "text/plain": [
              "<Figure size 432x288 with 1 Axes>"
            ]
          },
          "metadata": {
            "needs_background": "light"
          }
        },
        {
          "output_type": "display_data",
          "data": {
            "image/png": "[encoded data removed]",
            "text/plain": [
              "<Figure size 432x288 with 1 Axes>"
            ]
          },
          "metadata": {
            "needs_background": "light"
          }
        }
      ]
    },
    {
      "cell_type": "code",
      "source": [
        "img = visualize_transformation(index_original_coordinates_first_image, original_first_image)"
      ],
      "metadata": {
        "colab": {
          "base_uri": "https://localhost:8080/",
          "height": 265
        },
        "id": "foV_USFDa5AO",
        "outputId": "ff7d116a-c396-4dd2-9c14-000528572301"
      },
      "execution_count": null,
      "outputs": [
        {
          "output_type": "display_data",
          "data": {
            "image/png": "[encoded data removed]",
            "text/plain": [
              "<Figure size 432x288 with 1 Axes>"
            ]
          },
          "metadata": {
            "needs_background": "light"
          }
        }
      ]
    },
    {
      "cell_type": "code",
      "source": [
        "img2 = visualize_transformation(index_original_coordinates_second_image, original_second_image)"
      ],
      "metadata": {
        "colab": {
          "base_uri": "https://localhost:8080/",
          "height": 265
        },
        "id": "l-whjqMdiKBy",
        "outputId": "a3d7b07a-91bc-488a-b230-b5fce2c43628"
      },
      "execution_count": null,
      "outputs": [
        {
          "output_type": "display_data",
          "data": {
            "image/png": "[encoded data removed]",
            "text/plain": [
              "<Figure size 432x288 with 1 Axes>"
            ]
          },
          "metadata": {
            "needs_background": "light"
          }
        }
      ]
    },
    {
      "cell_type": "markdown",
      "source": [
        "# Combining images"
      ],
      "metadata": {
        "id": "Dk1Y9FD9eR_6"
      }
    },
    {
      "cell_type": "code",
      "source": [
        "def combine_images(original_first_image, original_second_image, INPUT_1, OUTPUT_SIZE):\n",
        "  \"\"\"\n",
        "  function thet matches by injecting the parts of the image 2 in the image 1\n",
        "  params:\n",
        "    original_first_image: the first image (modif image)\n",
        "    original_second_image: the second image (injecting image)\n",
        "    INPUT_1: size of the input image in the net (ex : (28,28))\n",
        "    OUTPUT_SIZE : size of the output at the end of the feature extractor (ex: (4,4))\n",
        "\n",
        "  \"\"\"\n",
        "  #original_second_image used also\n",
        "  original_image_test = original_first_image.tolist()\n",
        "  printed_image = original_image_test.copy()\n",
        "\n",
        "  for k in range(len(coordinates_injection_first_image)):\n",
        "    first_image = get_original_indexes(coordinates_injection_first_image[k:k+1], INPUT_1, OUTPUT_SIZE)\n",
        "    second_image = get_original_indexes(coordinates_injection_second_image[k:k+1], INPUT_1, OUTPUT_SIZE)\n",
        "\n",
        "    # les indexes are sorted by columns and by line before doing the matching\n",
        "    first_image = sorted(first_image, key=lambda x: x[1])\n",
        "    first_image = sorted(first_image, key=lambda x: x[0])\n",
        "\n",
        "    # les indexes are sorted by columns and by line before doing the matching\n",
        "    second_image = sorted(second_image, key=lambda x: x[1])\n",
        "    second_image = sorted(second_image, key=lambda x: x[0])\n",
        "\n",
        "    # replace elements\n",
        "    if len(first_image) != len(second_image):\n",
        "      print(\"Error of size in the matching of pixels for the index of transformation: \"+str(k))\n",
        "\n",
        "    for i in range(len(first_image)):\n",
        "        printed_image[ first_image[i][0]][ first_image[i][1]] = original_second_image[second_image[i][0]][second_image[i][1]]\n",
        "\n",
        "  plt.imshow(printed_image)\n",
        "  plt.show()\n"
      ],
      "metadata": {
        "id": "CGEKAhxda0hL"
      },
      "execution_count": null,
      "outputs": []
    },
    {
      "cell_type": "code",
      "source": [
        "combine_images(original_first_image, original_second_image, INPUT_1, OUTPUT_SIZE)"
      ],
      "metadata": {
        "colab": {
          "base_uri": "https://localhost:8080/",
          "height": 265
        },
        "id": "cN7NIk7-hrYl",
        "outputId": "3e86f6e8-bb62-4d10-a8cd-ebbd2a4400dc"
      },
      "execution_count": null,
      "outputs": [
        {
          "output_type": "display_data",
          "data": {
            "image/png": "[encoded data removed]",
            "text/plain": [
              "<Figure size 432x288 with 1 Axes>"
            ]
          },
          "metadata": {
            "needs_background": "light"
          }
        }
      ]
    },
    {
      "cell_type": "code",
      "source": [
        ""
      ],
      "metadata": {
        "id": "uwrSrnzuhsrj"
      },
      "execution_count": null,
      "outputs": []
    }
  ]
}